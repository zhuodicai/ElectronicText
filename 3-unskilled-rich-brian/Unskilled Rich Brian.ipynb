{
 "cells": [
  {
   "cell_type": "markdown",
   "id": "e3b53af0",
   "metadata": {},
   "source": [
    "# Unskilled Rich Brian\n",
    "\n",
    "I pick some phrases in Rich Brian's lyric,\n",
    "\n",
    "and mesh them up with New Tooth his recent music. \n",
    "\n",
    "blog link : https://jumbled-marmoset-78e.notion.site/reading-and-writing-electronic-text-week6-zoecai-6e5740e307144bc98aea82b8c58396f8\n"
   ]
  },
  {
   "cell_type": "code",
   "execution_count": 47,
   "id": "270c45c8",
   "metadata": {},
   "outputs": [],
   "source": [
    "import random\n",
    "\n",
    "line = [0 for i in range(9)]\n",
    "\n",
    "end = [\"i\",\"n\",\"a\",\"ei\",\"ai\"]"
   ]
  },
  {
   "cell_type": "markdown",
   "id": "6e739541",
   "metadata": {},
   "source": [
    "### 1.verse"
   ]
  },
  {
   "cell_type": "code",
   "execution_count": 129,
   "id": "c23c6690",
   "metadata": {},
   "outputs": [],
   "source": [
    "im = {\n",
    "    \"i\": [\"chilling on the beach\",\"chilling on the beach\",\"riding round the city\",\"killing it\",\"living without it\"],\n",
    "    \"n\": [\"hopping out function\",\"overthinking\",\"tripping\",\"erasing\",\"feeling like we ain’t got no time to think\",\"feeling like we be the kings\"],\n",
    "    \"a\": [\"taking shots\",\"going back to the sock\",\"always after Gualla\",\"playing around\",\"popping a bottle off a yacht\",\"feeling so hot\",\"getting my plaques\",\"paying the tax\",\"driving till the sun is up\",\"on that visa\",\"dancing in the parking lot\",\"quitting the pack\"],\n",
    "    \"ei\":[\"living without it\",\"listening what my girl will say\",\"getting wasted\",\"getting wasted\"],\n",
    "    \"ai\":[\"paying the tax\",\"cutting that track\",\"rapping and getting that bag\",\"quitting the pack\",\"counting the sheep on my bed\",\"already on my way tonight\"]\n",
    "}\n",
    "better = {\n",
    "    \"i\":[\"quit it\",\"not gon’ waste it\"],\n",
    "    \"n\":[\"not gassin\"],\n",
    "    \"a\":[\"hit the spot\",\"get your mask off\",\"get cropped\",\"not act like a diva\",\"get your extras\"],\n",
    "    \"ei\":[\"base your opinions on what the major says\"],\n",
    "    \"ai\":[\"leave your ass\"]\n",
    "}\n",
    "when = {\n",
    "    \"i\":[\"you keep asking me\",\"you wonder, What’s the recipe?\",\"you're trying to play me\",\"you heard what i did\"],\n",
    "    \"n\":[\"you're acting like a hooligan\"],\n",
    "    \"a\":[\"your hella sause like soy\"],\n",
    "    \"ei\":[\"your life is fake\",\"your tick tock Rolex watch plain\",\"you already know what I say\"],\n",
    "    \"ai\":[\"you prolly take it back\"]\n",
    "}\n",
    "man = {\n",
    "    \"i\":[\"that’s a funny way to put it\",\"it’s empty\",\"this voice’s so deep\"],\n",
    "    \"n\":[\"the blood is on my hands\"],\n",
    "    \"a\":[\"that’s an oath\",\"it costs a lot\",\"back up, back up\"],\n",
    "    \"ei\":[\"the truth is erased\",\"it’s insane\"],\n",
    "    \"ai\":[\"it's either do or die\"]\n",
    "}"
   ]
  },
  {
   "cell_type": "code",
   "execution_count": 49,
   "id": "7799786b",
   "metadata": {},
   "outputs": [
    {
     "name": "stdout",
     "output_type": "stream",
     "text": [
      "I'm riding round the city,\n",
      "I'm chilling on the beach,\n",
      "I'm living without it,\n",
      "You better not gon’ waste it.\n",
      "When you keep asking me man this voice’s so deep,\n"
     ]
    }
   ],
   "source": [
    "line[0]=\"I'm \" + random.choice(im[\"i\"]) + \",\"\n",
    "line[1]=\"I'm \" + random.choice(im[\"i\"]) + \",\"\n",
    "line[2]=\"I'm \" + random.choice(im[\"i\"]) + \",\"\n",
    "line[3]=\"You better \" + random.choice(better[\"i\"]) + \".\"\n",
    "line[4]=\"When \" + random.choice(when[\"i\"]) + \" man \"+ random.choice(man[\"i\"]) +\",\"\n",
    "print(line[0]+\"\\n\"+line[1]+\"\\n\"+line[2]+\"\\n\"+line[3]+\"\\n\"+line[4])"
   ]
  },
  {
   "cell_type": "code",
   "execution_count": 50,
   "id": "05773767",
   "metadata": {},
   "outputs": [
    {
     "name": "stdout",
     "output_type": "stream",
     "text": [
      "a\n"
     ]
    }
   ],
   "source": [
    "verseEnd = random.choice(end)\n",
    "print(verseEnd)"
   ]
  },
  {
   "cell_type": "markdown",
   "id": "f3b74d88",
   "metadata": {},
   "source": [
    "### 2.hook"
   ]
  },
  {
   "cell_type": "code",
   "execution_count": 110,
   "id": "85c9b5bc",
   "metadata": {},
   "outputs": [],
   "source": [
    "dont = {\n",
    "    \"i\":[\"fold for a thottie\",\"have time baby just trying to gold dig\",\"be sorry\",\"test me cuz my skin ain’t thick\",\"like the energy\"],\n",
    "    \"n\":[\"call the reverend\",\"fight the feeling\"],\n",
    "    \"a\":[\"walk in the park\",\"really ever wanna talk\"],\n",
    "    \"ei\":[\"wanna be erased\",\"hurt me I just lost my way\",\"need to see your pasty face\"],\n",
    "    \"ai\":[\"try to save my life\",\"need no ICE\",\"need that VVS\",\"care but I fight\",\"lose we just ride\"]\n",
    "}\n",
    "my = {\n",
    "    \"i\":[\"shit go stupid\",\"lungs might give\",\"life is so sweet\",\"mother called me\",\"neck is a mortgage\"],\n",
    "    \"n\":[\"chain is swinging\",\"soul is growing\"],\n",
    "    \"a\":[\"shirt from Pacsun\",\"brother called me and told me to man up\"],\n",
    "    \"ei\":[\"ice is fake\",\"moisturizer is drying my face\"],\n",
    "    \"ai\":[\"favorite teacher is internet\"]\n",
    "}\n",
    "yo = {\n",
    "    \"i\":[\"call me papi\",\"leave when I want it\",\"murder my meat\",\"moving with the tactics\"],\n",
    "    \"n\":[\"leave with no warning\"],\n",
    "    \"a\":[\"now shut up\",\"try to put me in a box\"],\n",
    "    \"ei\":[\"got guilt down on my priest\",\"never made it\"],\n",
    "    \"ai\":[\"tryna be my friend\"]\n",
    "}\n",
    "imma = {\n",
    "    \"i\":[\"pop you like a pea\",\"make it\"],\n",
    "    \"n\":[\"set goals then beat it like Jackson\"],\n",
    "    \"a\":[\"make this jump\"],\n",
    "    \"ei\":[\"renovate\",\"give it a raise\"],\n",
    "    \"ai\":[\"took a test\"]\n",
    "}\n",
    "\n",
    "aa = [\"ay\", \"ayy\", \"yea\",\"uh\"]"
   ]
  },
  {
   "cell_type": "code",
   "execution_count": 80,
   "id": "bcf37843",
   "metadata": {},
   "outputs": [
    {
     "name": "stdout",
     "output_type": "stream",
     "text": [
      "Don't have time baby just trying to gold dig,\n",
      "My mother called me,\n",
      "Yo murder my meat,\n",
      "Imma make it,\n"
     ]
    }
   ],
   "source": [
    "line[5]=\"Don't \" + random.choice(dont[\"i\"]) + \",\"\n",
    "line[6]=\"My \" + random.choice(my[\"i\"]) + \",\"\n",
    "line[7]=\"Yo \" + random.choice(yo[\"i\"]) + \",\"\n",
    "line[8]=\"Imma \" + random.choice(imma[\"i\"]) + \",\"\n",
    "print(line[5]+\"\\n\"+line[6]+\"\\n\"+line[7]+\"\\n\"+line[8])"
   ]
  },
  {
   "cell_type": "code",
   "execution_count": 60,
   "id": "95ac5ffa",
   "metadata": {},
   "outputs": [
    {
     "name": "stdout",
     "output_type": "stream",
     "text": [
      "uh\n"
     ]
    }
   ],
   "source": [
    "aaEnd = random.choice(aa)\n",
    "print(aaEnd)"
   ]
  },
  {
   "cell_type": "code",
   "execution_count": 54,
   "id": "6b8462bc",
   "metadata": {},
   "outputs": [
    {
     "name": "stdout",
     "output_type": "stream",
     "text": [
      "n\n"
     ]
    }
   ],
   "source": [
    "hookEnd = random.choice(end)\n",
    "print(hookEnd)"
   ]
  },
  {
   "cell_type": "markdown",
   "id": "5ed6d77f",
   "metadata": {},
   "source": [
    "### 3.combine"
   ]
  },
  {
   "cell_type": "code",
   "execution_count": 142,
   "id": "f82fdd5c",
   "metadata": {},
   "outputs": [
    {
     "name": "stdout",
     "output_type": "stream",
     "text": [
      "No Tooth - Poor Brian \n",
      "\n",
      "I'm feeling so hot,\n",
      "I'm popping a bottle off a yacht,\n",
      "I'm playing around,\n",
      "You better get your mask off.\n",
      "When your hella sause like soy, \n",
      "man that’s an oath.\n",
      "(ayy)\n",
      "Don't fold for a thottie,\n",
      "(ayy)\n",
      "My mother called me,\n",
      "(ayy)\n",
      "Yo all call me papi,\n",
      "(ayy)\n",
      "Imma make it,\n",
      "(ayy)\n",
      "Don't fold for a thottie,\n",
      "(ayy)\n",
      "My mother called me,\n",
      "(ayy)\n",
      "Yo all call me papi,\n",
      "(ayy)\n",
      "Imma...\n"
     ]
    }
   ],
   "source": [
    "verseEnd = random.choice(end)\n",
    "hookEnd = random.choice(end)\n",
    "aaEnd = random.choice(aa)\n",
    "\n",
    "line[0]=\"I'm \" + random.choice(im[verseEnd]) + \",\"\n",
    "line[1]=\"I'm \" + random.choice(im[verseEnd]) + \",\"\n",
    "line[2]=\"I'm \" + random.choice(im[verseEnd]) + \",\"\n",
    "line[3]=\"You better \" + random.choice(better[verseEnd]) + \".\"\n",
    "line[4]=\"When \" + random.choice(when[verseEnd]) + \", \\nman \"+ random.choice(man[verseEnd]) +\".\"+\"\\n\"+\"(\"+aaEnd+\")\"+\"\\n\"\n",
    "# print(line[0]+\"\\n\"+line[1]+\"\\n\"+line[2]+\"\\n\"+line[3]+\"\\n\"+line[4])\n",
    "\n",
    "line[5]=\"Don't \" + random.choice(dont[hookEnd]) + \",\"+\"\\n\"+\"(\"+aaEnd+\")\"\n",
    "line[6]=\"My \" + random.choice(my[hookEnd]) + \",\"+\"\\n\"+\"(\"+aaEnd+\")\"\n",
    "line[7]=\"Yo all \" + random.choice(yo[hookEnd]) + \",\"+\"\\n\"+\"(\"+aaEnd+\")\"\n",
    "line[8]=\"Imma \" + random.choice(imma[hookEnd]) + \",\"+\"\\n\"+\"(\"+aaEnd+\")\"\n",
    "\n",
    "verse = [line[0],line[1],line[2],line[3],line[4]]\n",
    "hook = [line[5],line[6],line[7],line[8],line[5],line[6],line[7],\"Imma...\"]\n",
    "\n",
    "title = \"No Tooth - Poor Brian \\n\\n\"\n",
    "verse = \"\\n\".join(verse)\n",
    "hook = \"\\n\".join(hook)\n",
    "\n",
    "rap = title + verse + hook\n",
    "\n",
    "print(rap)"
   ]
  },
  {
   "cell_type": "code",
   "execution_count": 144,
   "id": "47b380ef",
   "metadata": {},
   "outputs": [
    {
     "name": "stdout",
     "output_type": "stream",
     "text": [
      "No Tooth - Poor Brian \n",
      "\n",
      "I'm quitting the pack,\n",
      "I'm cutting that track,\n",
      "I'm rapping and getting that bag,\n",
      "You better leave your ass.\n",
      "When you prolly take it back, \n",
      "man it's either do or die.\n",
      "(uh)\n",
      "Don't fight the feeling,\n",
      "(uh)\n",
      "My soul is growing,\n",
      "(uh)\n",
      "Yo all leave with no warning,\n",
      "(uh)\n",
      "Imma set goals then beat it like Jackson,\n",
      "(uh)\n",
      "Don't fight the feeling,\n",
      "(uh)\n",
      "My soul is growing,\n",
      "(uh)\n",
      "Yo all leave with no warning,\n",
      "(uh)\n",
      "Imma...\n"
     ]
    }
   ],
   "source": [
    "verseEnd = random.choice(end)\n",
    "hookEnd = random.choice(end)\n",
    "aaEnd = random.choice(aa)\n",
    "\n",
    "line[0]=\"I'm \" + random.choice(im[verseEnd]) + \",\"\n",
    "line[1]=\"I'm \" + random.choice(im[verseEnd]) + \",\"\n",
    "line[2]=\"I'm \" + random.choice(im[verseEnd]) + \",\"\n",
    "line[3]=\"You better \" + random.choice(better[verseEnd]) + \".\"\n",
    "line[4]=\"When \" + random.choice(when[verseEnd]) + \", \\nman \"+ random.choice(man[verseEnd]) +\".\"+\"\\n\"+\"(\"+aaEnd+\")\"+\"\\n\"\n",
    "# print(line[0]+\"\\n\"+line[1]+\"\\n\"+line[2]+\"\\n\"+line[3]+\"\\n\"+line[4])\n",
    "\n",
    "line[5]=\"Don't \" + random.choice(dont[hookEnd]) + \",\"+\"\\n\"+\"(\"+aaEnd+\")\"\n",
    "line[6]=\"My \" + random.choice(my[hookEnd]) + \",\"+\"\\n\"+\"(\"+aaEnd+\")\"\n",
    "line[7]=\"Yo all \" + random.choice(yo[hookEnd]) + \",\"+\"\\n\"+\"(\"+aaEnd+\")\"\n",
    "line[8]=\"Imma \" + random.choice(imma[hookEnd]) + \",\"+\"\\n\"+\"(\"+aaEnd+\")\"\n",
    "\n",
    "verse = [line[0],line[1],line[2],line[3],line[4]]\n",
    "hook = [line[5],line[6],line[7],line[8],line[5],line[6],line[7],\"Imma...\"]\n",
    "\n",
    "title = \"No Tooth - Poor Brian \\n\\n\"\n",
    "verse = \"\\n\".join(verse)\n",
    "hook = \"\\n\".join(hook)\n",
    "\n",
    "rap = title + verse + hook\n",
    "\n",
    "print(rap)"
   ]
  },
  {
   "cell_type": "code",
   "execution_count": 207,
   "id": "98d8c449",
   "metadata": {},
   "outputs": [
    {
     "name": "stdout",
     "output_type": "stream",
     "text": [
      "No Tooth - Poor Brian \n",
      "\n",
      "I'm always after Gualla,\n",
      "I'm popping a bottle off a yacht,\n",
      "I'm on that visa,\n",
      "You better get your mask off.\n",
      "When your hella sause like soy, \n",
      "man back up, back up.\n",
      "(uh)\n",
      "Don't need to see your pasty face,\n",
      "(uh)\n",
      "My moisturizer is drying my face,\n",
      "(uh)\n",
      "Yo all never made it,\n",
      "(uh)\n",
      "Imma give it a raise,\n",
      "(uh)\n",
      "Don't need to see your pasty face,\n",
      "(uh)\n",
      "My moisturizer is drying my face,\n",
      "(uh)\n",
      "Yo all never made it,\n",
      "(uh)\n",
      "Imma...\n"
     ]
    }
   ],
   "source": [
    "verseEnd = random.choice(end)\n",
    "hookEnd = random.choice(end)\n",
    "aaEnd = random.choice(aa)\n",
    "\n",
    "line[0]=\"I'm \" + random.choice(im[verseEnd]) + \",\"\n",
    "line[1]=\"I'm \" + random.choice(im[verseEnd]) + \",\"\n",
    "line[2]=\"I'm \" + random.choice(im[verseEnd]) + \",\"\n",
    "line[3]=\"You better \" + random.choice(better[verseEnd]) + \".\"\n",
    "line[4]=\"When \" + random.choice(when[verseEnd]) + \", \\nman \"+ random.choice(man[verseEnd]) +\".\"+\"\\n\"+\"(\"+aaEnd+\")\"+\"\\n\"\n",
    "# print(line[0]+\"\\n\"+line[1]+\"\\n\"+line[2]+\"\\n\"+line[3]+\"\\n\"+line[4])\n",
    "\n",
    "line[5]=\"Don't \" + random.choice(dont[hookEnd]) + \",\"+\"\\n\"+\"(\"+aaEnd+\")\"\n",
    "line[6]=\"My \" + random.choice(my[hookEnd]) + \",\"+\"\\n\"+\"(\"+aaEnd+\")\"\n",
    "line[7]=\"Yo all \" + random.choice(yo[hookEnd]) + \",\"+\"\\n\"+\"(\"+aaEnd+\")\"\n",
    "line[8]=\"Imma \" + random.choice(imma[hookEnd]) + \",\"+\"\\n\"+\"(\"+aaEnd+\")\"\n",
    "\n",
    "verse = [line[0],line[1],line[2],line[3],line[4]]\n",
    "hook = [line[5],line[6],line[7],line[8],line[5],line[6],line[7],\"Imma...\"]\n",
    "\n",
    "title = \"No Tooth - Poor Brian \\n\\n\"\n",
    "verse = \"\\n\".join(verse)\n",
    "hook = \"\\n\".join(hook)\n",
    "\n",
    "rap = title + verse + hook\n",
    "\n",
    "print(rap)"
   ]
  }
 ],
 "metadata": {
  "kernelspec": {
   "display_name": "Python 3 (ipykernel)",
   "language": "python",
   "name": "python3"
  },
  "language_info": {
   "codemirror_mode": {
    "name": "ipython",
    "version": 3
   },
   "file_extension": ".py",
   "mimetype": "text/x-python",
   "name": "python",
   "nbconvert_exporter": "python",
   "pygments_lexer": "ipython3",
   "version": "3.9.7"
  }
 },
 "nbformat": 4,
 "nbformat_minor": 5
}
