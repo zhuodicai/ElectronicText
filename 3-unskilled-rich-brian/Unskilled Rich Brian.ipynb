{
 "cells": [
  {
   "cell_type": "markdown",
   "id": "e3b53af0",
   "metadata": {},
   "source": [
    "# Unskilled Rich Brian\n",
    "\n",
    "I pick some phrases in Rich Brian's lyric,\n",
    "\n",
    "and mesh them up with New Tooth his recent music. \n"
   ]
  },
  {
   "cell_type": "code",
   "execution_count": 47,
   "id": "270c45c8",
   "metadata": {},
   "outputs": [],
   "source": [
    "import random\n",
    "\n",
    "line = [0 for i in range(9)]\n",
    "\n",
    "end = [\"i\",\"n\",\"a\",\"ei\",\"ai\"]"
   ]
  },
  {
   "cell_type": "markdown",
   "id": "3f24ff0b",
   "metadata": {},
   "source": [
    "### 1.verse"
   ]
  },
  {
   "cell_type": "code",
   "execution_count": 48,
   "id": "c23c6690",
   "metadata": {},
   "outputs": [],
   "source": [
    "im = {\n",
    "    \"i\": [\"chilling on the beach\",\"chilling on the beach\",\"riding round the city\",\"killing it\",\"living without it\"],\n",
    "    \"n\": [\"hopping out function\",\"overthinking\",\"tripping\",\"erasing\",\"feeling like we ain’t got no time to think\",\"feeling like we be the kings\"],\n",
    "    \"a\": [\"taking shots\",\"going back to the sock\",\"always after Gualla\",\"playing around\",\"popping a bottle off a yacht\",\"feeling so hot\",\"getting my plaques\",\"paying the tax\",\"driving till the sun is up\",\"on that visa\",\"dancing in the parking lot\",\"quitting the pack\"],\n",
    "    \"ei\":[\"living without it\",\"listening what my girl will say\",\"getting wasted\",\"getting wasted\"],\n",
    "    \"ai\":[\"paying the tax\",\"cutting that track\",\"rapping and getting that bag\",\"quitting the pack\",\"counting the sheep on my bed\",\"already on my way tonight\"]\n",
    "}\n",
    "better = {\n",
    "    \"i\":[\"quit it\",\"not gon’ waste it\"],\n",
    "    \"n\":[\"not gassin\"],\n",
    "    \"a\":[\"hit the spot\",\"get your mask off\",\"get cropped\",\"not act like a diva\",\"get your extras\"],\n",
    "    \"ei\":[\"base your opinions on what the major says\"],\n",
    "    \"ai\":[\"leave your ass\"]\n",
    "}\n",
    "when = {\n",
    "    \"i\":[\"you keep asking me\",\"you wonder, What’s the recipe?\",\"you're trying to play me\",\"you heard what i did\"],\n",
    "    \"n\":[\"you're acting like a hooligan\"],\n",
    "    \"a\":[\"hella sause like soy\"],\n",
    "    \"ei\":[\"life is fake\",\"tick tock Rolex watch plain\",\"already know what I say\"],\n",
    "    \"ai\":[\"prolly take it back\"]\n",
    "}\n",
    "man = {\n",
    "    \"i\":[\"that’s a funny way to put it\",\"it’s empty\",\"this voice’s so deep\"],\n",
    "    \"n\":[\"the blood is on my hands\"],\n",
    "    \"a\":[\"that’s an oath\",\"it costs a lot\",\"back up, back up\"],\n",
    "    \"ei\":[\"the truth is erased\",\"it’s insane\"],\n",
    "    \"ai\":[\"it's either do or die\"]\n",
    "}"
   ]
  },
  {
   "cell_type": "code",
   "execution_count": 49,
   "id": "e3f6c625",
   "metadata": {},
   "outputs": [
    {
     "name": "stdout",
     "output_type": "stream",
     "text": [
      "I'm riding round the city,\n",
      "I'm chilling on the beach,\n",
      "I'm living without it,\n",
      "You better not gon’ waste it.\n",
      "When you keep asking me man this voice’s so deep,\n"
     ]
    }
   ],
   "source": [
    "line[0]=\"I'm \" + random.choice(im[\"i\"]) + \",\"\n",
    "line[1]=\"I'm \" + random.choice(im[\"i\"]) + \",\"\n",
    "line[2]=\"I'm \" + random.choice(im[\"i\"]) + \",\"\n",
    "line[3]=\"You better \" + random.choice(better[\"i\"]) + \".\"\n",
    "line[4]=\"When \" + random.choice(when[\"i\"]) + \" man \"+ random.choice(man[\"i\"]) +\",\"\n",
    "print(line[0]+\"\\n\"+line[1]+\"\\n\"+line[2]+\"\\n\"+line[3]+\"\\n\"+line[4])"
   ]
  },
  {
   "cell_type": "code",
   "execution_count": 50,
   "id": "4ec36c44",
   "metadata": {},
   "outputs": [
    {
     "name": "stdout",
     "output_type": "stream",
     "text": [
      "a\n"
     ]
    }
   ],
   "source": [
    "verseEnd = random.choice(end)\n",
    "print(verseEnd)"
   ]
  },
  {
   "cell_type": "markdown",
   "id": "ba13696f",
   "metadata": {},
   "source": [
    "### 2.hook"
   ]
  },
  {
   "cell_type": "code",
   "execution_count": 110,
   "id": "86c50368",
   "metadata": {},
   "outputs": [],
   "source": [
    "dont = {\n",
    "    \"i\":[\"fold for a thottie\",\"have time baby just trying to gold dig\",\"be sorry\",\"test me cuz my skin ain’t thick\",\"like the energy\"],\n",
    "    \"n\":[\"call the reverend\",\"fight the feeling\"],\n",
    "    \"a\":[\"walk in the park\",\"really ever wanna talk\"],\n",
    "    \"ei\":[\"wanna be erased\",\"hurt me I just lost my way\",\"need to see your pasty face\"],\n",
    "    \"ai\":[\"try to save my life\",\"need no ICE\",\"need that VVS\",\"care but I fight\",\"lose we just ride\"]\n",
    "}\n",
    "my = {\n",
    "    \"i\":[\"shit go stupid\",\"lungs might give\",\"life is so sweet\",\"mother called me\",\"neck is a mortgage\"],\n",
    "    \"n\":[\"chain is swinging\",\"soul is growing\"],\n",
    "    \"a\":[\"shirt from Pacsun\",\"brother called me and told me to man up\"],\n",
    "    \"ei\":[\"ice is fake\",\"moisturizer is drying my face\"],\n",
    "    \"ai\":[\"favorite teacher is internet\"]\n",
    "}\n",
    "yo = {\n",
    "    \"i\":[\"call me papi\",\"leave when I want it\",\"murder my meat\",\"moving with the tactics\"],\n",
    "    \"n\":[\"leave with no warning\"],\n",
    "    \"a\":[\"now shut up\",\"try to put me in a box\"],\n",
    "    \"ei\":[\"got guilt down on my priest\",\"never made it\"],\n",
    "    \"ai\":[\"tryna be my friend\"]\n",
    "}\n",
    "imma = {\n",
    "    \"i\":[\"pop you like a pea\",\"make it\"],\n",
    "    \"n\":[\"set goals then beat it like Jackson\"],\n",
    "    \"a\":[\"make this jump\"],\n",
    "    \"ei\":[\"renovate\",\"give it a raise\"],\n",
    "    \"ai\":[\"took a test\"]\n",
    "}\n",
    "\n",
    "aa = [\"ay\", \"ayy\", \"yea\",\"uh\"]"
   ]
  },
  {
   "cell_type": "code",
   "execution_count": 80,
   "id": "6d0cf912",
   "metadata": {},
   "outputs": [
    {
     "name": "stdout",
     "output_type": "stream",
     "text": [
      "Don't have time baby just trying to gold dig,\n",
      "My mother called me,\n",
      "Yo murder my meat,\n",
      "Imma make it,\n"
     ]
    }
   ],
   "source": [
    "line[5]=\"Don't \" + random.choice(dont[\"i\"]) + \",\"\n",
    "line[6]=\"My \" + random.choice(my[\"i\"]) + \",\"\n",
    "line[7]=\"Yo \" + random.choice(yo[\"i\"]) + \",\"\n",
    "line[8]=\"Imma \" + random.choice(imma[\"i\"]) + \",\"\n",
    "print(line[5]+\"\\n\"+line[6]+\"\\n\"+line[7]+\"\\n\"+line[8])"
   ]
  },
  {
   "cell_type": "code",
   "execution_count": 60,
   "id": "6bc822ce",
   "metadata": {},
   "outputs": [
    {
     "name": "stdout",
     "output_type": "stream",
     "text": [
      "uh\n"
     ]
    }
   ],
   "source": [
    "aaEnd = random.choice(aa)\n",
    "print(aaEnd)"
   ]
  },
  {
   "cell_type": "code",
   "execution_count": 54,
   "id": "63e00bf5",
   "metadata": {},
   "outputs": [
    {
     "name": "stdout",
     "output_type": "stream",
     "text": [
      "n\n"
     ]
    }
   ],
   "source": [
    "hookEnd = random.choice(end)\n",
    "print(hookEnd)"
   ]
  },
  {
   "cell_type": "markdown",
   "id": "a757bc0a",
   "metadata": {},
   "source": [
    "## 3.combine"
   ]
  },
  {
   "cell_type": "code",
   "execution_count": 111,
   "id": "3e2425bc",
   "metadata": {},
   "outputs": [
    {
     "name": "stdout",
     "output_type": "stream",
     "text": [
      "I'm hopping out function,\n",
      "I'm overthinking,\n",
      "I'm feeling like we be the kings,\n",
      "You better not gassin.\n",
      "When you're acting like a hooligan, \n",
      "man the blood is on my hands.\n",
      "(uh)\n",
      "Don't really ever wanna talk,\n",
      "(uh)\n",
      "My shirt from Pacsun,\n",
      "(uh)\n",
      "Yo all now shut up,\n",
      "(uh)\n",
      "Imma make this jump,\n",
      "(uh)\n",
      "Don't really ever wanna talk,\n",
      "(uh)\n",
      "My shirt from Pacsun,\n",
      "(uh)\n",
      "Yo all now shut up,\n",
      "(uh)\n",
      "Imma...\n"
     ]
    }
   ],
   "source": [
    "verseEnd = random.choice(end)\n",
    "hookEnd = random.choice(end)\n",
    "aaEnd = random.choice(aa)\n",
    "\n",
    "line[0]=\"I'm \" + random.choice(im[verseEnd]) + \",\"\n",
    "line[1]=\"I'm \" + random.choice(im[verseEnd]) + \",\"\n",
    "line[2]=\"I'm \" + random.choice(im[verseEnd]) + \",\"\n",
    "line[3]=\"You better \" + random.choice(better[verseEnd]) + \".\"\n",
    "line[4]=\"When \" + random.choice(when[verseEnd]) + \", \\nman \"+ random.choice(man[verseEnd]) +\".\"+\"\\n\"+\"(\"+aaEnd+\")\"+\"\\n\"\n",
    "# print(line[0]+\"\\n\"+line[1]+\"\\n\"+line[2]+\"\\n\"+line[3]+\"\\n\"+line[4])\n",
    "\n",
    "line[5]=\"Don't \" + random.choice(dont[hookEnd]) + \",\"+\"\\n\"+\"(\"+aaEnd+\")\"\n",
    "line[6]=\"My \" + random.choice(my[hookEnd]) + \",\"+\"\\n\"+\"(\"+aaEnd+\")\"\n",
    "line[7]=\"Yo all \" + random.choice(yo[hookEnd]) + \",\"+\"\\n\"+\"(\"+aaEnd+\")\"\n",
    "line[8]=\"Imma \" + random.choice(imma[hookEnd]) + \",\"+\"\\n\"+\"(\"+aaEnd+\")\"\n",
    "\n",
    "verse = [line[0],line[1],line[2],line[3],line[4]]\n",
    "hook = [line[5],line[6],line[7],line[8],line[5],line[6],line[7],\"Imma...\"]\n",
    "\n",
    "verse = \"\\n\".join(verse)\n",
    "hook = \"\\n\".join(hook)\n",
    "\n",
    "rap = verse + hook\n",
    "\n",
    "print(rap)"
   ]
  },
  {
   "cell_type": "code",
   "execution_count": 112,
   "id": "34c8c3e3",
   "metadata": {},
   "outputs": [
    {
     "name": "stdout",
     "output_type": "stream",
     "text": [
      "I'm counting the sheep on my bed,\n",
      "I'm rapping and getting that bag,\n",
      "I'm cutting that track,\n",
      "You better leave your ass.\n",
      "When prolly take it back, \n",
      "man it's either do or die.\n",
      "(ayy)\n",
      "Don't call the reverend,\n",
      "(ayy)\n",
      "My soul is growing,\n",
      "(ayy)\n",
      "Yo all leave with no warning,\n",
      "(ayy)\n",
      "Imma set goals then beat it like Jackson,\n",
      "(ayy)\n",
      "Don't call the reverend,\n",
      "(ayy)\n",
      "My soul is growing,\n",
      "(ayy)\n",
      "Yo all leave with no warning,\n",
      "(ayy)\n",
      "Imma...\n"
     ]
    }
   ],
   "source": [
    "verseEnd = random.choice(end)\n",
    "hookEnd = random.choice(end)\n",
    "aaEnd = random.choice(aa)\n",
    "\n",
    "line[0]=\"I'm \" + random.choice(im[verseEnd]) + \",\"\n",
    "line[1]=\"I'm \" + random.choice(im[verseEnd]) + \",\"\n",
    "line[2]=\"I'm \" + random.choice(im[verseEnd]) + \",\"\n",
    "line[3]=\"You better \" + random.choice(better[verseEnd]) + \".\"\n",
    "line[4]=\"When \" + random.choice(when[verseEnd]) + \", \\nman \"+ random.choice(man[verseEnd]) +\".\"+\"\\n\"+\"(\"+aaEnd+\")\"+\"\\n\"\n",
    "# print(line[0]+\"\\n\"+line[1]+\"\\n\"+line[2]+\"\\n\"+line[3]+\"\\n\"+line[4])\n",
    "\n",
    "line[5]=\"Don't \" + random.choice(dont[hookEnd]) + \",\"+\"\\n\"+\"(\"+aaEnd+\")\"\n",
    "line[6]=\"My \" + random.choice(my[hookEnd]) + \",\"+\"\\n\"+\"(\"+aaEnd+\")\"\n",
    "line[7]=\"Yo all \" + random.choice(yo[hookEnd]) + \",\"+\"\\n\"+\"(\"+aaEnd+\")\"\n",
    "line[8]=\"Imma \" + random.choice(imma[hookEnd]) + \",\"+\"\\n\"+\"(\"+aaEnd+\")\"\n",
    "\n",
    "verse = [line[0],line[1],line[2],line[3],line[4]]\n",
    "hook = [line[5],line[6],line[7],line[8],line[5],line[6],line[7],\"Imma...\"]\n",
    "\n",
    "verse = \"\\n\".join(verse)\n",
    "hook = \"\\n\".join(hook)\n",
    "\n",
    "rap = verse + hook\n",
    "\n",
    "print(rap)"
   ]
  }
 ],
 "metadata": {
  "kernelspec": {
   "display_name": "Python 3 (ipykernel)",
   "language": "python",
   "name": "python3"
  },
  "language_info": {
   "codemirror_mode": {
    "name": "ipython",
    "version": 3
   },
   "file_extension": ".py",
   "mimetype": "text/x-python",
   "name": "python",
   "nbconvert_exporter": "python",
   "pygments_lexer": "ipython3",
   "version": "3.9.7"
  }
 },
 "nbformat": 4,
 "nbformat_minor": 5
}
