{
 "cells": [
  {
   "cell_type": "markdown",
   "id": "bb1bc12d",
   "metadata": {},
   "source": [
    "# Reasonable Quote-with Sentimental Analysis\n",
    "\n",
    "blog link : https://jumbled-marmoset-78e.notion.site/reading-and-writing-electronic-text-week7-zoecai-da08eea26ebe4c9ebaac824117127747"
   ]
  },
  {
   "cell_type": "code",
   "execution_count": 1,
   "id": "40f9fb93",
   "metadata": {
    "scrolled": true
   },
   "outputs": [],
   "source": [
    "# !pip install -U sentence-transformers"
   ]
  },
  {
   "cell_type": "code",
   "execution_count": 2,
   "id": "33df59c8",
   "metadata": {},
   "outputs": [],
   "source": [
    "import pandas as pd\n",
    "from tqdm.notebook import tqdm #进度条\n",
    "from transformers import pipeline\n",
    "import math"
   ]
  },
  {
   "cell_type": "markdown",
   "id": "bbb0e7d9",
   "metadata": {},
   "source": [
    "### 1. news headline (csv)"
   ]
  },
  {
   "cell_type": "code",
   "execution_count": 3,
   "id": "e5ada0d3",
   "metadata": {},
   "outputs": [
    {
     "data": {
      "text/html": [
       "<div>\n",
       "<style scoped>\n",
       "    .dataframe tbody tr th:only-of-type {\n",
       "        vertical-align: middle;\n",
       "    }\n",
       "\n",
       "    .dataframe tbody tr th {\n",
       "        vertical-align: top;\n",
       "    }\n",
       "\n",
       "    .dataframe thead th {\n",
       "        text-align: right;\n",
       "    }\n",
       "</style>\n",
       "<table border=\"1\" class=\"dataframe\">\n",
       "  <thead>\n",
       "    <tr style=\"text-align: right;\">\n",
       "      <th></th>\n",
       "      <th>publish_date</th>\n",
       "      <th>headline_text</th>\n",
       "      <th>sentiment</th>\n",
       "      <th>score</th>\n",
       "      <th>distance</th>\n",
       "    </tr>\n",
       "  </thead>\n",
       "  <tbody>\n",
       "    <tr>\n",
       "      <th>0</th>\n",
       "      <td>20200101</td>\n",
       "      <td>adelaide riverbank catches alight after new ye...</td>\n",
       "      <td>POSITIVE</td>\n",
       "      <td>0.998660</td>\n",
       "      <td></td>\n",
       "    </tr>\n",
       "    <tr>\n",
       "      <th>1</th>\n",
       "      <td>20200101</td>\n",
       "      <td>adelaides 9pm fireworks spark blaze on riverbank</td>\n",
       "      <td>POSITIVE</td>\n",
       "      <td>0.997871</td>\n",
       "      <td></td>\n",
       "    </tr>\n",
       "    <tr>\n",
       "      <th>2</th>\n",
       "      <td>20200101</td>\n",
       "      <td>archaic legislation governing nt women propert...</td>\n",
       "      <td>NEGATIVE</td>\n",
       "      <td>0.997699</td>\n",
       "      <td></td>\n",
       "    </tr>\n",
       "    <tr>\n",
       "      <th>3</th>\n",
       "      <td>20200101</td>\n",
       "      <td>australia welcomed 2020 with fireworks display...</td>\n",
       "      <td>POSITIVE</td>\n",
       "      <td>0.999707</td>\n",
       "      <td></td>\n",
       "    </tr>\n",
       "    <tr>\n",
       "      <th>4</th>\n",
       "      <td>20200101</td>\n",
       "      <td>authorities says atleast 50 structures have be...</td>\n",
       "      <td>NEGATIVE</td>\n",
       "      <td>0.999677</td>\n",
       "      <td></td>\n",
       "    </tr>\n",
       "    <tr>\n",
       "      <th>...</th>\n",
       "      <td>...</td>\n",
       "      <td>...</td>\n",
       "      <td>...</td>\n",
       "      <td>...</td>\n",
       "      <td>...</td>\n",
       "    </tr>\n",
       "    <tr>\n",
       "      <th>1996</th>\n",
       "      <td>20200127</td>\n",
       "      <td>coronavirus schools urge students to be checked</td>\n",
       "      <td>NEGATIVE</td>\n",
       "      <td>0.982530</td>\n",
       "      <td></td>\n",
       "    </tr>\n",
       "    <tr>\n",
       "      <th>1997</th>\n",
       "      <td>20200127</td>\n",
       "      <td>coronavirus strengthening spread infectious du...</td>\n",
       "      <td>NEGATIVE</td>\n",
       "      <td>0.906272</td>\n",
       "      <td></td>\n",
       "    </tr>\n",
       "    <tr>\n",
       "      <th>1998</th>\n",
       "      <td>20200127</td>\n",
       "      <td>court battle over climate change could shake the</td>\n",
       "      <td>NEGATIVE</td>\n",
       "      <td>0.981286</td>\n",
       "      <td></td>\n",
       "    </tr>\n",
       "    <tr>\n",
       "      <th>1999</th>\n",
       "      <td>20200127</td>\n",
       "      <td>difference between grammys song record and alb...</td>\n",
       "      <td>POSITIVE</td>\n",
       "      <td>0.998716</td>\n",
       "      <td></td>\n",
       "    </tr>\n",
       "    <tr>\n",
       "      <th>2000</th>\n",
       "      <td>20200127</td>\n",
       "      <td>donald trump calls ukraine ambassador firing l...</td>\n",
       "      <td>NEGATIVE</td>\n",
       "      <td>0.999442</td>\n",
       "      <td></td>\n",
       "    </tr>\n",
       "  </tbody>\n",
       "</table>\n",
       "<p>2001 rows × 5 columns</p>\n",
       "</div>"
      ],
      "text/plain": [
       "      publish_date                                      headline_text  \\\n",
       "0         20200101  adelaide riverbank catches alight after new ye...   \n",
       "1         20200101   adelaides 9pm fireworks spark blaze on riverbank   \n",
       "2         20200101  archaic legislation governing nt women propert...   \n",
       "3         20200101  australia welcomed 2020 with fireworks display...   \n",
       "4         20200101  authorities says atleast 50 structures have be...   \n",
       "...            ...                                                ...   \n",
       "1996      20200127    coronavirus schools urge students to be checked   \n",
       "1997      20200127  coronavirus strengthening spread infectious du...   \n",
       "1998      20200127   court battle over climate change could shake the   \n",
       "1999      20200127  difference between grammys song record and alb...   \n",
       "2000      20200127  donald trump calls ukraine ambassador firing l...   \n",
       "\n",
       "     sentiment     score distance  \n",
       "0     POSITIVE  0.998660           \n",
       "1     POSITIVE  0.997871           \n",
       "2     NEGATIVE  0.997699           \n",
       "3     POSITIVE  0.999707           \n",
       "4     NEGATIVE  0.999677           \n",
       "...        ...       ...      ...  \n",
       "1996  NEGATIVE  0.982530           \n",
       "1997  NEGATIVE  0.906272           \n",
       "1998  NEGATIVE  0.981286           \n",
       "1999  POSITIVE  0.998716           \n",
       "2000  NEGATIVE  0.999442           \n",
       "\n",
       "[2001 rows x 5 columns]"
      ]
     },
     "execution_count": 3,
     "metadata": {},
     "output_type": "execute_result"
    }
   ],
   "source": [
    "# news headline\n",
    "df = pd.read_csv('abcnews-date-text.csv')\n",
    "df['distance'] = \"\"\n",
    "df = df.loc[:2000, :]\n",
    "df"
   ]
  },
  {
   "cell_type": "markdown",
   "id": "5a631207",
   "metadata": {},
   "source": [
    "### 2. quotes (json)\n",
    "\n",
    "choose one randomly"
   ]
  },
  {
   "cell_type": "code",
   "execution_count": 4,
   "id": "67dea855",
   "metadata": {},
   "outputs": [
    {
     "data": {
      "text/plain": [
       "\"And what would happen if we never read the classics? There comes a point in life, it seems to me, where you have to decide whether you're a Person of Letters or merely someone who loves books, and I'm beginning to see that the book lovers have more fun.\\nNick Hornby,  Housekeeping vs. the Dirt\""
      ]
     },
     "execution_count": 4,
     "metadata": {},
     "output_type": "execute_result"
    }
   ],
   "source": [
    "# quotes\n",
    "import json\n",
    "import random\n",
    "\n",
    "with open(\"quotes.json\",\"r\") as f:\n",
    "    jsonFiles = json.loads(f.read())\n",
    "\n",
    "chooseQuote = random.choice(jsonFiles)\n",
    "\n",
    "chosenQuote = str(chooseQuote['Quote'])\n",
    "chosenAuthor = str(chooseQuote['Author'] )\n",
    "\n",
    "chosenQuote + '\\n' + chosenAuthor"
   ]
  },
  {
   "cell_type": "markdown",
   "id": "ff8a4c8b",
   "metadata": {},
   "source": [
    "### 3. text comparision"
   ]
  },
  {
   "cell_type": "code",
   "execution_count": 6,
   "id": "c4e3249b",
   "metadata": {},
   "outputs": [
    {
     "name": "stderr",
     "output_type": "stream",
     "text": [
      "No model was supplied, defaulted to distilbert-base-uncased-finetuned-sst-2-english (https://huggingface.co/distilbert-base-uncased-finetuned-sst-2-english)\n"
     ]
    },
    {
     "data": {
      "application/vnd.jupyter.widget-view+json": {
       "model_id": "70ae4d883deb4518a8d6455ffb6c29c2",
       "version_major": 2,
       "version_minor": 0
      },
      "text/plain": [
       "  0%|          | 0/2001 [00:00<?, ?it/s]"
      ]
     },
     "metadata": {},
     "output_type": "display_data"
    },
    {
     "name": "stderr",
     "output_type": "stream",
     "text": [
      "/var/folders/f6/kwjf_7yj33d5td_0swg_clx00000gn/T/ipykernel_22027/4240246147.py:19: SettingWithCopyWarning: \n",
      "A value is trying to be set on a copy of a slice from a DataFrame\n",
      "\n",
      "See the caveats in the documentation: https://pandas.pydata.org/pandas-docs/stable/user_guide/indexing.html#returning-a-view-versus-a-copy\n",
      "  df['distance'][idx] = 10 * abs(cal_similar(quote_embed, headline_embed))\n",
      "/var/folders/f6/kwjf_7yj33d5td_0swg_clx00000gn/T/ipykernel_22027/4240246147.py:24: SettingWithCopyWarning: \n",
      "A value is trying to be set on a copy of a slice from a DataFrame\n",
      "\n",
      "See the caveats in the documentation: https://pandas.pydata.org/pandas-docs/stable/user_guide/indexing.html#returning-a-view-versus-a-copy\n",
      "  df['distance'][idx] = df['distance'][idx] + abs(sentiment - quote_sentiment)\n"
     ]
    },
    {
     "data": {
      "text/html": [
       "<div>\n",
       "<style scoped>\n",
       "    .dataframe tbody tr th:only-of-type {\n",
       "        vertical-align: middle;\n",
       "    }\n",
       "\n",
       "    .dataframe tbody tr th {\n",
       "        vertical-align: top;\n",
       "    }\n",
       "\n",
       "    .dataframe thead th {\n",
       "        text-align: right;\n",
       "    }\n",
       "</style>\n",
       "<table border=\"1\" class=\"dataframe\">\n",
       "  <thead>\n",
       "    <tr style=\"text-align: right;\">\n",
       "      <th></th>\n",
       "      <th>publish_date</th>\n",
       "      <th>headline_text</th>\n",
       "      <th>sentiment</th>\n",
       "      <th>score</th>\n",
       "      <th>distance</th>\n",
       "    </tr>\n",
       "  </thead>\n",
       "  <tbody>\n",
       "    <tr>\n",
       "      <th>1949</th>\n",
       "      <td>20200126</td>\n",
       "      <td>khmer rouge daughter decades long search photo...</td>\n",
       "      <td>POSITIVE</td>\n",
       "      <td>0.954420</td>\n",
       "      <td>0.017775</td>\n",
       "    </tr>\n",
       "    <tr>\n",
       "      <th>1628</th>\n",
       "      <td>20200122</td>\n",
       "      <td>tim winton novel blueback to commence filming ...</td>\n",
       "      <td>POSITIVE</td>\n",
       "      <td>0.986816</td>\n",
       "      <td>0.028147</td>\n",
       "    </tr>\n",
       "    <tr>\n",
       "      <th>1897</th>\n",
       "      <td>20200125</td>\n",
       "      <td>mick keelty on the water beat murray darling b...</td>\n",
       "      <td>POSITIVE</td>\n",
       "      <td>0.990792</td>\n",
       "      <td>0.029586</td>\n",
       "    </tr>\n",
       "    <tr>\n",
       "      <th>1803</th>\n",
       "      <td>20200124</td>\n",
       "      <td>nick kyrgios mimicks rafael nadals serve</td>\n",
       "      <td>POSITIVE</td>\n",
       "      <td>0.947689</td>\n",
       "      <td>0.031045</td>\n",
       "    </tr>\n",
       "    <tr>\n",
       "      <th>699</th>\n",
       "      <td>20200111</td>\n",
       "      <td>premier to take over tourism portfolio after b...</td>\n",
       "      <td>POSITIVE</td>\n",
       "      <td>0.990439</td>\n",
       "      <td>0.034241</td>\n",
       "    </tr>\n",
       "  </tbody>\n",
       "</table>\n",
       "</div>"
      ],
      "text/plain": [
       "      publish_date                                      headline_text  \\\n",
       "1949      20200126  khmer rouge daughter decades long search photo...   \n",
       "1628      20200122  tim winton novel blueback to commence filming ...   \n",
       "1897      20200125  mick keelty on the water beat murray darling b...   \n",
       "1803      20200124           nick kyrgios mimicks rafael nadals serve   \n",
       "699       20200111  premier to take over tourism portfolio after b...   \n",
       "\n",
       "     sentiment     score  distance  \n",
       "1949  POSITIVE  0.954420  0.017775  \n",
       "1628  POSITIVE  0.986816  0.028147  \n",
       "1897  POSITIVE  0.990792  0.029586  \n",
       "1803  POSITIVE  0.947689  0.031045  \n",
       "699   POSITIVE  0.990439  0.034241  "
      ]
     },
     "execution_count": 6,
     "metadata": {},
     "output_type": "execute_result"
    }
   ],
   "source": [
    "from sentence_transformers import SentenceTransformer\n",
    "from scipy import spatial\n",
    "\n",
    "def cal_similar(vector1, vector2):\n",
    "    return 1 - spatial.distance.cosine(vector1, vector2)\n",
    "\n",
    "model = SentenceTransformer('all-MiniLM-L6-v2')\n",
    "\n",
    "quote_embed = model.encode(chosenQuote)\n",
    "quote_sentiment = pipeline('sentiment-analysis')(chosenQuote)[0]\n",
    "\n",
    "if quote_sentiment['label'] == \"NEGATIVE\":\n",
    "    quote_sentiment = 1 - quote_sentiment['score']\n",
    "else:\n",
    "    quote_sentiment = quote_sentiment['score']\n",
    "\n",
    "for idx in tqdm(range(len(df))):\n",
    "    headline_embed = model.encode(df['headline_text'][idx])\n",
    "    df['distance'][idx] = 10 * abs(cal_similar(quote_embed, headline_embed))\n",
    "    if isinstance(df['sentiment'][idx], str):\n",
    "        sentiment = df['score'][idx] if df['sentiment'][idx] == \"POSITIVE\" else 1 - df['score'][idx]\n",
    "    else:\n",
    "        sentiment = 0.5\n",
    "    df['distance'][idx] = df['distance'][idx] + abs(sentiment - quote_sentiment)    \n",
    "\n",
    "df = df.sort_values(by=\"distance\")\n",
    "\n",
    "df.head()\n",
    "\n",
    "# for idx in range(3):\n",
    "#     print(\"\\033[1;7m\" + str(df['publish_date'][idx]) + ',' + df['headline_text'][idx] + \"\\033[0m\")\n",
    "# print(chosenQuote + '\\n————' + chosenAuthor)"
   ]
  },
  {
   "cell_type": "code",
   "execution_count": null,
   "id": "cb38b1ae-64f0-4822-b2f2-b9db73786fa9",
   "metadata": {},
   "outputs": [],
   "source": []
  }
 ],
 "metadata": {
  "kernelspec": {
   "display_name": "Python 3 (ipykernel)",
   "language": "python",
   "name": "python3"
  },
  "language_info": {
   "codemirror_mode": {
    "name": "ipython",
    "version": 3
   },
   "file_extension": ".py",
   "mimetype": "text/x-python",
   "name": "python",
   "nbconvert_exporter": "python",
   "pygments_lexer": "ipython3",
   "version": "3.9.7"
  }
 },
 "nbformat": 4,
 "nbformat_minor": 5
}
