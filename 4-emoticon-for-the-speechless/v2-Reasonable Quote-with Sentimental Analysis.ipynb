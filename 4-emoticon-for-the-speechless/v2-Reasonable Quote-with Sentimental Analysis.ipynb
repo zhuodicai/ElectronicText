{
 "cells": [
  {
   "cell_type": "markdown",
   "id": "bb1bc12d",
   "metadata": {},
   "source": [
    "# Reasonable Quote-with Sentimental Analysis\n",
    "\n",
    "I combine the sentiment analysis score with the original vector score together, and regenerate the poetry of Reasonable Quote.\n",
    "\n",
    "blog link : https://jumbled-marmoset-78e.notion.site/reading-and-writing-electronic-text-week7-zoecai-da08eea26ebe4c9ebaac824117127747"
   ]
  },
  {
   "cell_type": "markdown",
   "id": "3363668e",
   "metadata": {},
   "source": [
    "# ⬆️ this is Part2"
   ]
  },
  {
   "cell_type": "code",
   "execution_count": 1,
   "id": "40f9fb93",
   "metadata": {
    "scrolled": true
   },
   "outputs": [],
   "source": [
    "# !pip install -U sentence-transformers"
   ]
  },
  {
   "cell_type": "code",
   "execution_count": 2,
   "id": "33df59c8",
   "metadata": {},
   "outputs": [],
   "source": [
    "import pandas as pd\n",
    "from tqdm.notebook import tqdm #进度条\n",
    "from transformers import pipeline\n",
    "import math"
   ]
  },
  {
   "cell_type": "markdown",
   "id": "bbb0e7d9",
   "metadata": {},
   "source": [
    "### 1. news headline (csv)"
   ]
  },
  {
   "cell_type": "code",
   "execution_count": 33,
   "id": "e5ada0d3",
   "metadata": {},
   "outputs": [
    {
     "data": {
      "text/html": [
       "<div>\n",
       "<style scoped>\n",
       "    .dataframe tbody tr th:only-of-type {\n",
       "        vertical-align: middle;\n",
       "    }\n",
       "\n",
       "    .dataframe tbody tr th {\n",
       "        vertical-align: top;\n",
       "    }\n",
       "\n",
       "    .dataframe thead th {\n",
       "        text-align: right;\n",
       "    }\n",
       "</style>\n",
       "<table border=\"1\" class=\"dataframe\">\n",
       "  <thead>\n",
       "    <tr style=\"text-align: right;\">\n",
       "      <th></th>\n",
       "      <th>publish_date</th>\n",
       "      <th>headline_text</th>\n",
       "      <th>sentiment</th>\n",
       "      <th>score</th>\n",
       "      <th>distance</th>\n",
       "    </tr>\n",
       "  </thead>\n",
       "  <tbody>\n",
       "    <tr>\n",
       "      <th>0</th>\n",
       "      <td>20200101</td>\n",
       "      <td>adelaide riverbank catches alight after new ye...</td>\n",
       "      <td>POSITIVE</td>\n",
       "      <td>0.998660</td>\n",
       "      <td></td>\n",
       "    </tr>\n",
       "    <tr>\n",
       "      <th>1</th>\n",
       "      <td>20200101</td>\n",
       "      <td>adelaides 9pm fireworks spark blaze on riverbank</td>\n",
       "      <td>POSITIVE</td>\n",
       "      <td>0.997871</td>\n",
       "      <td></td>\n",
       "    </tr>\n",
       "    <tr>\n",
       "      <th>2</th>\n",
       "      <td>20200101</td>\n",
       "      <td>archaic legislation governing nt women propert...</td>\n",
       "      <td>NEGATIVE</td>\n",
       "      <td>0.997699</td>\n",
       "      <td></td>\n",
       "    </tr>\n",
       "    <tr>\n",
       "      <th>3</th>\n",
       "      <td>20200101</td>\n",
       "      <td>australia welcomed 2020 with fireworks display...</td>\n",
       "      <td>POSITIVE</td>\n",
       "      <td>0.999707</td>\n",
       "      <td></td>\n",
       "    </tr>\n",
       "    <tr>\n",
       "      <th>4</th>\n",
       "      <td>20200101</td>\n",
       "      <td>authorities says atleast 50 structures have be...</td>\n",
       "      <td>NEGATIVE</td>\n",
       "      <td>0.999677</td>\n",
       "      <td></td>\n",
       "    </tr>\n",
       "    <tr>\n",
       "      <th>...</th>\n",
       "      <td>...</td>\n",
       "      <td>...</td>\n",
       "      <td>...</td>\n",
       "      <td>...</td>\n",
       "      <td>...</td>\n",
       "    </tr>\n",
       "    <tr>\n",
       "      <th>1996</th>\n",
       "      <td>20200127</td>\n",
       "      <td>coronavirus schools urge students to be checked</td>\n",
       "      <td>NEGATIVE</td>\n",
       "      <td>0.982530</td>\n",
       "      <td></td>\n",
       "    </tr>\n",
       "    <tr>\n",
       "      <th>1997</th>\n",
       "      <td>20200127</td>\n",
       "      <td>coronavirus strengthening spread infectious du...</td>\n",
       "      <td>NEGATIVE</td>\n",
       "      <td>0.906272</td>\n",
       "      <td></td>\n",
       "    </tr>\n",
       "    <tr>\n",
       "      <th>1998</th>\n",
       "      <td>20200127</td>\n",
       "      <td>court battle over climate change could shake the</td>\n",
       "      <td>NEGATIVE</td>\n",
       "      <td>0.981286</td>\n",
       "      <td></td>\n",
       "    </tr>\n",
       "    <tr>\n",
       "      <th>1999</th>\n",
       "      <td>20200127</td>\n",
       "      <td>difference between grammys song record and alb...</td>\n",
       "      <td>POSITIVE</td>\n",
       "      <td>0.998716</td>\n",
       "      <td></td>\n",
       "    </tr>\n",
       "    <tr>\n",
       "      <th>2000</th>\n",
       "      <td>20200127</td>\n",
       "      <td>donald trump calls ukraine ambassador firing l...</td>\n",
       "      <td>NEGATIVE</td>\n",
       "      <td>0.999442</td>\n",
       "      <td></td>\n",
       "    </tr>\n",
       "  </tbody>\n",
       "</table>\n",
       "<p>2001 rows × 5 columns</p>\n",
       "</div>"
      ],
      "text/plain": [
       "      publish_date                                      headline_text  \\\n",
       "0         20200101  adelaide riverbank catches alight after new ye...   \n",
       "1         20200101   adelaides 9pm fireworks spark blaze on riverbank   \n",
       "2         20200101  archaic legislation governing nt women propert...   \n",
       "3         20200101  australia welcomed 2020 with fireworks display...   \n",
       "4         20200101  authorities says atleast 50 structures have be...   \n",
       "...            ...                                                ...   \n",
       "1996      20200127    coronavirus schools urge students to be checked   \n",
       "1997      20200127  coronavirus strengthening spread infectious du...   \n",
       "1998      20200127   court battle over climate change could shake the   \n",
       "1999      20200127  difference between grammys song record and alb...   \n",
       "2000      20200127  donald trump calls ukraine ambassador firing l...   \n",
       "\n",
       "     sentiment     score distance  \n",
       "0     POSITIVE  0.998660           \n",
       "1     POSITIVE  0.997871           \n",
       "2     NEGATIVE  0.997699           \n",
       "3     POSITIVE  0.999707           \n",
       "4     NEGATIVE  0.999677           \n",
       "...        ...       ...      ...  \n",
       "1996  NEGATIVE  0.982530           \n",
       "1997  NEGATIVE  0.906272           \n",
       "1998  NEGATIVE  0.981286           \n",
       "1999  POSITIVE  0.998716           \n",
       "2000  NEGATIVE  0.999442           \n",
       "\n",
       "[2001 rows x 5 columns]"
      ]
     },
     "execution_count": 33,
     "metadata": {},
     "output_type": "execute_result"
    }
   ],
   "source": [
    "# news headline\n",
    "df = pd.read_csv('abcnews-date-text.csv')\n",
    "df['distance'] = \"\"\n",
    "df = df.loc[:2000, :]\n",
    "df"
   ]
  },
  {
   "cell_type": "markdown",
   "id": "5a631207",
   "metadata": {},
   "source": [
    "### 2. quotes (json)\n",
    "\n",
    "choose one randomly"
   ]
  },
  {
   "cell_type": "code",
   "execution_count": 24,
   "id": "67dea855",
   "metadata": {},
   "outputs": [
    {
     "data": {
      "text/plain": [
       "\"Sometimes when I try to make jokes or have a sense of humor in interviews, it doesn't go over very well. But Twitter made my life easier in this way that I didn't expect. It would have taken probably 10 times as long for people to accept my voice and my sense of humor if I didn't have Twitter.\\nAnna Kendrick\""
      ]
     },
     "execution_count": 24,
     "metadata": {},
     "output_type": "execute_result"
    }
   ],
   "source": [
    "# quotes\n",
    "import json\n",
    "import random\n",
    "\n",
    "with open(\"quotes.json\",\"r\") as f:\n",
    "    jsonFiles = json.loads(f.read())\n",
    "\n",
    "chooseQuote = random.choice(jsonFiles)\n",
    "\n",
    "chosenQuote = str(chooseQuote['Quote'])\n",
    "chosenAuthor = str(chooseQuote['Author'] )\n",
    "\n",
    "chosenQuote + '\\n' + chosenAuthor"
   ]
  },
  {
   "cell_type": "markdown",
   "id": "ff8a4c8b",
   "metadata": {},
   "source": [
    "### 3. text comparision"
   ]
  },
  {
   "cell_type": "code",
   "execution_count": 25,
   "id": "c4e3249b",
   "metadata": {},
   "outputs": [
    {
     "name": "stderr",
     "output_type": "stream",
     "text": [
      "No model was supplied, defaulted to distilbert-base-uncased-finetuned-sst-2-english (https://huggingface.co/distilbert-base-uncased-finetuned-sst-2-english)\n"
     ]
    },
    {
     "data": {
      "application/vnd.jupyter.widget-view+json": {
       "model_id": "6faa0527d067490a98b458a167783c66",
       "version_major": 2,
       "version_minor": 0
      },
      "text/plain": [
       "  0%|          | 0/2001 [00:00<?, ?it/s]"
      ]
     },
     "metadata": {},
     "output_type": "display_data"
    },
    {
     "name": "stderr",
     "output_type": "stream",
     "text": [
      "/var/folders/f6/kwjf_7yj33d5td_0swg_clx00000gn/T/ipykernel_21147/2464126981.py:24: SettingWithCopyWarning: \n",
      "A value is trying to be set on a copy of a slice from a DataFrame\n",
      "\n",
      "See the caveats in the documentation: https://pandas.pydata.org/pandas-docs/stable/user_guide/indexing.html#returning-a-view-versus-a-copy\n",
      "  df['distance'][idx] = df['distance'][idx] + abs(sentiment - quote_sentiment)\n",
      "/var/folders/f6/kwjf_7yj33d5td_0swg_clx00000gn/T/ipykernel_21147/2464126981.py:19: SettingWithCopyWarning: \n",
      "A value is trying to be set on a copy of a slice from a DataFrame\n",
      "\n",
      "See the caveats in the documentation: https://pandas.pydata.org/pandas-docs/stable/user_guide/indexing.html#returning-a-view-versus-a-copy\n",
      "  df['distance'][idx] = 10 * abs(cal_similar(quote_embed, headline_embed))\n"
     ]
    },
    {
     "name": "stdout",
     "output_type": "stream",
     "text": [
      "\u001b[1;7m20200101,adelaide riverbank catches alight after new years eve fireworks\u001b[0m\n",
      "\u001b[1;7m20200101,adelaides 9pm fireworks spark blaze on riverbank\u001b[0m\n",
      "\u001b[1;7m20200101,archaic legislation governing nt women property rights\u001b[0m\n",
      "Sometimes when I try to make jokes or have a sense of humor in interviews, it doesn't go over very well. But Twitter made my life easier in this way that I didn't expect. It would have taken probably 10 times as long for people to accept my voice and my sense of humor if I didn't have Twitter.\n",
      "————Anna Kendrick\n"
     ]
    }
   ],
   "source": [
    "from sentence_transformers import SentenceTransformer\n",
    "from scipy import spatial\n",
    "\n",
    "def cal_similar(vector1, vector2):\n",
    "    return 1 - spatial.distance.cosine(vector1, vector2)\n",
    "\n",
    "model = SentenceTransformer('all-MiniLM-L6-v2')\n",
    "\n",
    "quote_embed = model.encode(chosenQuote)\n",
    "quote_sentiment = pipeline('sentiment-analysis')(chosenQuote)[0]\n",
    "\n",
    "if quote_sentiment['label'] == \"NEGATIVE\":\n",
    "    quote_sentiment = 1 - quote_sentiment['score']\n",
    "else:\n",
    "    quote_sentiment = quote_sentiment['score']\n",
    "\n",
    "for idx in tqdm(range(len(df))):\n",
    "    headline_embed = model.encode(df['headline_text'][idx])\n",
    "    df['distance'][idx] = 10 * abs(cal_similar(quote_embed, headline_embed))\n",
    "    if isinstance(df['sentiment'][idx], str):\n",
    "        sentiment = df['score'][idx] if df['sentiment'][idx] == \"POSITIVE\" else 1 - df['score'][idx]\n",
    "    else:\n",
    "        sentiment = 0.5\n",
    "    df['distance'][idx] = df['distance'][idx] + abs(sentiment - quote_sentiment)    \n",
    "\n",
    "df = df.sort_values(by=\"distance\")\n",
    "\n",
    "df.head()\n",
    "\n",
    "for idx in range(3):\n",
    "    print(\"\\033[1;7m\" + str(df['publish_date'][idx]) + ',' + df['headline_text'][idx] + \"\\033[0m\")\n",
    "print(chosenQuote + '\\n————' + chosenAuthor)"
   ]
  }
 ],
 "metadata": {
  "kernelspec": {
   "display_name": "Python 3 (ipykernel)",
   "language": "python",
   "name": "python3"
  },
  "language_info": {
   "codemirror_mode": {
    "name": "ipython",
    "version": 3
   },
   "file_extension": ".py",
   "mimetype": "text/x-python",
   "name": "python",
   "nbconvert_exporter": "python",
   "pygments_lexer": "ipython3",
   "version": "3.9.7"
  }
 },
 "nbformat": 4,
 "nbformat_minor": 5
}
