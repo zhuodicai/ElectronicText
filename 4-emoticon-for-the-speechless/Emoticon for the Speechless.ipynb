{
 "cells": [
  {
   "cell_type": "markdown",
   "id": "94e99e8d",
   "metadata": {},
   "source": [
    "# Emoticon for the Speechless\n",
    "\n",
    "> Jane：  I bumped into a tree!\n",
    "\n",
    "> Me：...\n",
    "\n",
    "I usually do not know what to reply to in such kind of situation. If I say sorry, she may think I’m too serious and old-fashioned. But if I say LOL, she may think there is something wrong with me. I don't want to seem too nervous or make fun of people, and I don't want to be speechless to make her feel embarrassed. So I need to use something to cover up the panic of not knowing how to respond. \n",
    "\n",
    "(Text with) Meme? Emoji? Emoticon? I’ll do emoticons! It’s ~~classic~~ easier.\n",
    "\n",
    "blog link : https://jumbled-marmoset-78e.notion.site/reading-and-writing-electronic-text-week7-zoecai-da08eea26ebe4c9ebaac824117127747"
   ]
  },
  {
   "cell_type": "markdown",
   "id": "28b820e2",
   "metadata": {},
   "source": [
    "## 0. hide pink blocks"
   ]
  },
  {
   "cell_type": "code",
   "execution_count": 249,
   "id": "4b7f1c2c",
   "metadata": {},
   "outputs": [
    {
     "data": {
      "text/html": [
       "<script>\n",
       "code_show_err=false; \n",
       "function code_toggle_err() {\n",
       " if (code_show_err){\n",
       " $('div.output_stderr').hide();\n",
       " } else {\n",
       " $('div.output_stderr').show();\n",
       " }\n",
       " code_show_err = !code_show_err\n",
       "} \n",
       "$( document ).ready(code_toggle_err);\n",
       "</script>\n",
       "To toggle on/off output_stderr, click <a href=\"javascript:code_toggle_err()\">here</a>."
      ],
      "text/plain": [
       "<IPython.core.display.HTML object>"
      ]
     },
     "execution_count": 249,
     "metadata": {},
     "output_type": "execute_result"
    }
   ],
   "source": [
    "from IPython.display import HTML\n",
    "HTML('''<script>\n",
    "code_show_err=false; \n",
    "function code_toggle_err() {\n",
    " if (code_show_err){\n",
    " $('div.output_stderr').hide();\n",
    " } else {\n",
    " $('div.output_stderr').show();\n",
    " }\n",
    " code_show_err = !code_show_err\n",
    "} \n",
    "$( document ).ready(code_toggle_err);\n",
    "</script>\n",
    "To toggle on/off output_stderr, click <a href=\"javascript:code_toggle_err()\">here</a>.''')"
   ]
  },
  {
   "cell_type": "markdown",
   "id": "02241bda",
   "metadata": {},
   "source": [
    "## 1. sentimental analysis\n",
    "\n",
    "1. create env in Anaconda (kytorch)\n",
    "\n",
    "2. \"conda install pytorch -c pytorch\" in terminal\n",
    "\n",
    "3. \"conda install numpy\" in terminal\n",
    "\n",
    "4. \"pip install transformers\" in terminal\n",
    "\n",
    "5. the rest of operation : https://www.google.com/search?q=how+to+use+huggingface+tutorial&ei=u683Yp-bE4mbptQPmJG20AU&oq=how+to+use+huggingface+tutori&gs_lcp=Cgdnd3Mtd2l6EAEYADIHCCEQChCgAToHCAAQRxCwAzoFCAAQgAQ6BAgAEEM6BAgAEB46BQghEKABSgQIQRgASgQIRhgAUNcCWP8fYOknaANwAXgAgAFZiAG_BJIBATmYAQCgAQHIAQrAAQE&sclient=gws-wiz#kpvalbx=_jLA3Yp2nBriYptQP6LSZiAM11\n",
    "\n",
    "6. other pipelines of huggingface: https://huggingface.co/docs/transformers/main_classes/pipelines"
   ]
  },
  {
   "cell_type": "code",
   "execution_count": 8,
   "id": "ff77bede",
   "metadata": {},
   "outputs": [],
   "source": [
    "from transformers import pipeline\n",
    "\n",
    "import torch\n",
    "import torch.nn.functional as F\n",
    "from transformers import pipeline"
   ]
  },
  {
   "cell_type": "code",
   "execution_count": 366,
   "id": "a646bd59",
   "metadata": {},
   "outputs": [
    {
     "name": "stderr",
     "output_type": "stream",
     "text": [
      "No model was supplied, defaulted to distilbert-base-uncased-finetuned-sst-2-english (https://huggingface.co/distilbert-base-uncased-finetuned-sst-2-english)\n"
     ]
    },
    {
     "name": "stdout",
     "output_type": "stream",
     "text": [
      "[{'label': 'POSITIVE', 'score': 0.9984608888626099}]\n"
     ]
    }
   ],
   "source": [
    "print(pipeline('sentiment-analysis')('isnt it good?'))"
   ]
  },
  {
   "cell_type": "code",
   "execution_count": 17,
   "id": "c6ea7c52",
   "metadata": {},
   "outputs": [
    {
     "name": "stderr",
     "output_type": "stream",
     "text": [
      "No model was supplied, defaulted to distilbert-base-uncased-finetuned-sst-2-english (https://huggingface.co/distilbert-base-uncased-finetuned-sst-2-english)\n"
     ]
    },
    {
     "name": "stdout",
     "output_type": "stream",
     "text": [
      "[{'label': 'POSITIVE', 'score': 0.893867552280426}]\n"
     ]
    }
   ],
   "source": [
    "print(pipeline('sentiment-analysis')('i hate you because you love me so much'))"
   ]
  },
  {
   "cell_type": "code",
   "execution_count": 22,
   "id": "40280235",
   "metadata": {
    "scrolled": true
   },
   "outputs": [
    {
     "name": "stderr",
     "output_type": "stream",
     "text": [
      "No model was supplied, defaulted to distilbert-base-uncased-finetuned-sst-2-english (https://huggingface.co/distilbert-base-uncased-finetuned-sst-2-english)\n"
     ]
    },
    {
     "name": "stdout",
     "output_type": "stream",
     "text": [
      "[{'label': 'POSITIVE', 'score': 0.9917578101158142}]\n"
     ]
    }
   ],
   "source": [
    "print(pipeline('sentiment-analysis')('i hate you, you love me so much'))"
   ]
  },
  {
   "cell_type": "code",
   "execution_count": 28,
   "id": "66d91df1",
   "metadata": {},
   "outputs": [
    {
     "name": "stderr",
     "output_type": "stream",
     "text": [
      "No model was supplied, defaulted to distilbert-base-uncased-finetuned-sst-2-english (https://huggingface.co/distilbert-base-uncased-finetuned-sst-2-english)\n"
     ]
    },
    {
     "data": {
      "text/plain": [
       "{'label': 'POSITIVE', 'score': 0.9917578101158142}"
      ]
     },
     "execution_count": 28,
     "metadata": {},
     "output_type": "execute_result"
    }
   ],
   "source": [
    "pipeline('sentiment-analysis')('i hate you, you love me so much')[0]"
   ]
  },
  {
   "cell_type": "code",
   "execution_count": 29,
   "id": "89da9e7f",
   "metadata": {
    "scrolled": false
   },
   "outputs": [
    {
     "name": "stdout",
     "output_type": "stream",
     "text": [
      "What content do you want to respond to?\n",
      "i do worry about you\n"
     ]
    },
    {
     "name": "stderr",
     "output_type": "stream",
     "text": [
      "No model was supplied, defaulted to distilbert-base-uncased-finetuned-sst-2-english (https://huggingface.co/distilbert-base-uncased-finetuned-sst-2-english)\n"
     ]
    },
    {
     "name": "stdout",
     "output_type": "stream",
     "text": [
      "i do worry about you\n",
      "[{'label': 'POSITIVE', 'score': 0.9690304398536682}]\n"
     ]
    }
   ],
   "source": [
    "print(\"What content do you want to respond to?\")\n",
    "x = input()\n",
    "# print(\"Well, \" + x)\n",
    "print(x)\n",
    "print(pipeline('sentiment-analysis')('x'))"
   ]
  },
  {
   "cell_type": "markdown",
   "id": "e6290086",
   "metadata": {},
   "source": [
    "## 2. emoticon classification\n",
    "\n",
    "eye: ['-','ᇂ','･','°', '✧','•̀','•́','•̌','•̑','ᵔ','╹','⁰͈','ʘ',' ͡ ','罒','ㅍ','ｰ̀','ｰ́','˃̶͈̀','˂̶͈́','ᵒ̴̶̷̥́','ᵒ̴̶̷̣̥̀','≖','ಠ','σ̑','^','ᵒ̴̶̷̤','˘','꒪','•','𖦹']\n",
    "\n",
    "mouth: ['□','〇','‸','0','ᗜ','ɞ','_','へ','︿','д','Д','ὢ','ᗣ','ᴗ','‿',' ', 'ι_', '⁻̫','⌓']\n",
    "\n",
    "cheek: [';','|||','⸝⸝⸝','๑','ꐦ']\n",
    "\n",
    "decor: ['Σ','✧','♡','=͟͟͞͞ ']"
   ]
  },
  {
   "cell_type": "code",
   "execution_count": 296,
   "id": "e55afe78",
   "metadata": {},
   "outputs": [],
   "source": [
    "neg = {\n",
    "    \"lefteye\":['•̀','•́','•̌','•̑','ㅍ','ｰ̀','ｰ́','˃̶͈̀','˂̶͈́','ᵒ̴̶̷̥́','ᵒ̴̶̷̣̥̀','≖','ಠ','˘','𖦹'],\n",
    "    \"righteye\":['•́','•̀','•̌','•̌','ㅍ','ｰ́','ｰ̀','˃̶͈̀','˂̶͈́','ᵒ̴̶̷̣̥̀','ᵒ̴̶̷̥́','≖','ಠ','˘','𖦹'],\n",
    "    \"mouth\":['□','‸','へ','︿','д','Д','ὢ','ᗣ','⌓'],\n",
    "    \"decor\":['=͟͟͞͞ ',''],\n",
    "    \"leftface\":['(','(ꐦ'],\n",
    "    \"rightface\":[')',')']\n",
    "}\n",
    "\n",
    "neu = {\n",
    "    \"lefteye\":['–','ᇂ','･','°','⁰͈','•̑','ʘ','罒','ㅍ','˘','꒪','•'],\n",
    "    \"righteye\":['–','ᇂ','･','°','⁰͈', '•̑','ʘ','罒','ㅍ','˘','꒪','•'],\n",
    "    \"mouth\":['0','_',' ', 'ι_'],\n",
    "    \"decor\":['Σ',''],\n",
    "    \"leftface\":['(','(;'],\n",
    "    \"rightface\":[')',')']\n",
    "}\n",
    "\n",
    "pos = {\n",
    "    \"lefteye\":['✧','•̑','ᵔ','╹','罒','σ̑','^','ᵒ̴̶̷̤'],\n",
    "    \"righteye\":['✧','•̑','ᵔ','╹','罒','σ̑','^','ᵒ̴̶̷̤'],\n",
    "    \"mouth\":['ᗜ','ᴗ','‿','⁻̫'],\n",
    "    \"decor\":['✧','♡',''],\n",
    "    \"leftface\":['(','(⸝⸝⸝','(๑'],\n",
    "    \"rightface\":[')','⸝⸝⸝)','๑)']\n",
    "}\n",
    "\n"
   ]
  },
  {
   "cell_type": "code",
   "execution_count": 236,
   "id": "7bc07189",
   "metadata": {
    "scrolled": true
   },
   "outputs": [
    {
     "name": "stdout",
     "output_type": "stream",
     "text": [
      "(•̀)\n"
     ]
    }
   ],
   "source": [
    "emoticon = (face[\"leftface\"][0], neg[\"lefteye\"][0], face[\"rightface\"][0])\n",
    "\n",
    "x = \"\".join(emoticon)\n",
    "\n",
    "print(x)"
   ]
  },
  {
   "cell_type": "markdown",
   "id": "b369c461",
   "metadata": {},
   "source": [
    "## 3. sentimental+emoticon"
   ]
  },
  {
   "cell_type": "code",
   "execution_count": 237,
   "id": "4e8c3925",
   "metadata": {},
   "outputs": [],
   "source": [
    "import random"
   ]
  },
  {
   "cell_type": "code",
   "execution_count": 323,
   "id": "8135c42e",
   "metadata": {},
   "outputs": [
    {
     "name": "stderr",
     "output_type": "stream",
     "text": [
      "No model was supplied, defaulted to distilbert-base-uncased-finetuned-sst-2-english (https://huggingface.co/distilbert-base-uncased-finetuned-sst-2-english)\n"
     ]
    },
    {
     "data": {
      "text/plain": [
       "{'label': 'POSITIVE', 'score': 0.9998656511306763}"
      ]
     },
     "execution_count": 323,
     "metadata": {},
     "output_type": "execute_result"
    }
   ],
   "source": [
    "content = \"i love you\"\n",
    "pipeline('sentiment-analysis')(content)[0]"
   ]
  },
  {
   "cell_type": "code",
   "execution_count": 324,
   "id": "7fc27279",
   "metadata": {},
   "outputs": [
    {
     "name": "stderr",
     "output_type": "stream",
     "text": [
      "No model was supplied, defaulted to distilbert-base-uncased-finetuned-sst-2-english (https://huggingface.co/distilbert-base-uncased-finetuned-sst-2-english)\n",
      "No model was supplied, defaulted to distilbert-base-uncased-finetuned-sst-2-english (https://huggingface.co/distilbert-base-uncased-finetuned-sst-2-english)\n",
      "No model was supplied, defaulted to distilbert-base-uncased-finetuned-sst-2-english (https://huggingface.co/distilbert-base-uncased-finetuned-sst-2-english)\n"
     ]
    }
   ],
   "source": [
    "if pipeline('sentiment-analysis')(content)[0]['label'] == 'NEGATIVE':\n",
    "    if pipeline('sentiment-analysis')(content)[0]['score'] < 0.67:\n",
    "        category = neu\n",
    "    else:\n",
    "        category = neg\n",
    "if pipeline('sentiment-analysis')(content)[0]['label'] == 'POSITIVE':\n",
    "    if pipeline('sentiment-analysis')(content)[0]['score'] < 0.67:\n",
    "        category = neu\n",
    "    else:\n",
    "        category = pos"
   ]
  },
  {
   "cell_type": "code",
   "execution_count": 325,
   "id": "637c5477",
   "metadata": {},
   "outputs": [
    {
     "name": "stdout",
     "output_type": "stream",
     "text": [
      "✧(⸝⸝⸝ᵔᗜᵔ⸝⸝⸝)\n"
     ]
    }
   ],
   "source": [
    "eyelen = len(category[\"lefteye\"])-1\n",
    "eyerandom = random.randint(0,eyelen)\n",
    "\n",
    "facelen = len(category[\"leftface\"])-1\n",
    "facerandom = random.randint(0,facelen)\n",
    "\n",
    "emoticon = (random.choice(category[\"decor\"]),category[\"leftface\"][facerandom],category[\"lefteye\"][eyerandom],random.choice(category[\"mouth\"]),category[\"righteye\"][eyerandom],category[\"rightface\"][facerandom])\n",
    "\n",
    "output = \"\".join(emoticon)\n",
    "\n",
    "print(output)"
   ]
  },
  {
   "cell_type": "markdown",
   "id": "877ad4d3",
   "metadata": {},
   "source": [
    "## 4. combination"
   ]
  },
  {
   "cell_type": "code",
   "execution_count": null,
   "id": "8239e358",
   "metadata": {},
   "outputs": [
    {
     "name": "stdout",
     "output_type": "stream",
     "text": [
      "when you say,\n",
      "\n"
     ]
    }
   ],
   "source": [
    "print(\"when you say,\\n\")\n",
    "content = input()\n",
    "# content = \"i bumped into a tree!\"\n",
    "\n",
    "pipeline('sentiment-analysis')(content)[0]\n",
    "\n",
    "if pipeline('sentiment-analysis')(content)[0]['label'] == 'NEGATIVE':\n",
    "    if pipeline('sentiment-analysis')(content)[0]['score'] < 0.67:\n",
    "        category = neu\n",
    "    else:\n",
    "        category = neg\n",
    "if pipeline('sentiment-analysis')(content)[0]['label'] == 'POSITIVE':\n",
    "    if pipeline('sentiment-analysis')(content)[0]['score'] < 0.67:\n",
    "        category = neu\n",
    "    else:\n",
    "        category = pos\n",
    "\n",
    "eyelen = len(category[\"lefteye\"])-1\n",
    "eyerandom = random.randint(0,eyelen)\n",
    "\n",
    "facelen = len(category[\"leftface\"])-1\n",
    "facerandom = random.randint(0,facelen)\n",
    "\n",
    "emoticon = (random.choice(category[\"decor\"]),category[\"leftface\"][facerandom],category[\"lefteye\"][eyerandom],random.choice(category[\"mouth\"]),category[\"righteye\"][eyerandom],category[\"rightface\"][facerandom])\n",
    "\n",
    "output = \"\".join(emoticon)\n",
    "\n",
    "print(\"i try to cover up my panic of not knowing what to reply by sending... \\n\\n\",output)"
   ]
  }
 ],
 "metadata": {
  "kernelspec": {
   "display_name": "Python 3 (ipykernel)",
   "language": "python",
   "name": "python3"
  },
  "language_info": {
   "codemirror_mode": {
    "name": "ipython",
    "version": 3
   },
   "file_extension": ".py",
   "mimetype": "text/x-python",
   "name": "python",
   "nbconvert_exporter": "python",
   "pygments_lexer": "ipython3",
   "version": "3.9.7"
  }
 },
 "nbformat": 4,
 "nbformat_minor": 5
}
