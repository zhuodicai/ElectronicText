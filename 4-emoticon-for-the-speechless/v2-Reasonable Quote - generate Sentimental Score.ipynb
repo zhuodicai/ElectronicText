{
 "cells": [
  {
   "cell_type": "markdown",
   "id": "456af3a2",
   "metadata": {},
   "source": [
    "#  Reasonable Quote - generate Sentimental Score\n",
    "\n",
    "I combine the sentiment analysis score with the original vector score together, and regenerate the poetry of Reasonable Quote.\n",
    "\n",
    "I think coordinating contents into one context is also mattered by the sentiment the contents convey.\n",
    "\n",
    "reference: https://pythonwife.com/sentimental-analysis-with-spacy/\n",
    "\n",
    "blog link : https://jumbled-marmoset-78e.notion.site/reading-and-writing-electronic-text-week7-zoecai-da08eea26ebe4c9ebaac824117127747"
   ]
  },
  {
   "cell_type": "markdown",
   "id": "f75c6f0f",
   "metadata": {},
   "source": [
    "# ⬆️ this is Part1"
   ]
  },
  {
   "cell_type": "markdown",
   "id": "800662d0",
   "metadata": {},
   "source": [
    "## 1. install"
   ]
  },
  {
   "cell_type": "markdown",
   "id": "52d9f4a3",
   "metadata": {},
   "source": [
    "### install spaCy"
   ]
  },
  {
   "cell_type": "code",
   "execution_count": 1,
   "id": "da15d9ea",
   "metadata": {},
   "outputs": [],
   "source": [
    "# import sys\n",
    "# !conda install -c conda-forge -y --prefix {sys.prefix} spacy"
   ]
  },
  {
   "cell_type": "markdown",
   "id": "3f629b66",
   "metadata": {},
   "source": [
    "### install models of spaCy -> english"
   ]
  },
  {
   "cell_type": "code",
   "execution_count": 2,
   "id": "aaadf04f",
   "metadata": {},
   "outputs": [],
   "source": [
    "# import sys\n",
    "# !{sys.executable} -m spacy download en_core_web_md"
   ]
  },
  {
   "cell_type": "markdown",
   "id": "d605b873",
   "metadata": {},
   "source": [
    "### install pandas"
   ]
  },
  {
   "cell_type": "code",
   "execution_count": 3,
   "id": "2e553c98",
   "metadata": {},
   "outputs": [],
   "source": [
    "# ! pip install pandas"
   ]
  },
  {
   "cell_type": "markdown",
   "id": "1d994b39",
   "metadata": {},
   "source": [
    "### install plotly.express"
   ]
  },
  {
   "cell_type": "code",
   "execution_count": 4,
   "id": "33dcc240",
   "metadata": {},
   "outputs": [],
   "source": [
    "# ! pip install plotly"
   ]
  },
  {
   "cell_type": "markdown",
   "id": "62eaa6ef",
   "metadata": {},
   "source": [
    "### install pytorch & transformers for sentimental analysis\n",
    "\n",
    "1. create env in Anaconda (kytorch)\n",
    "\n",
    "2. \"conda install pytorch -c pytorch\" in terminal\n",
    "\n",
    "3. \"conda install numpy\" in terminal\n",
    "\n",
    "4. \"pip install transformers\" in terminal\n",
    "\n",
    "5. the rest of operation : https://www.google.com/search?q=how+to+use+huggingface+tutorial&ei=u683Yp-bE4mbptQPmJG20AU&oq=how+to+use+huggingface+tutori&gs_lcp=Cgdnd3Mtd2l6EAEYADIHCCEQChCgAToHCAAQRxCwAzoFCAAQgAQ6BAgAEEM6BAgAEB46BQghEKABSgQIQRgASgQIRhgAUNcCWP8fYOknaANwAXgAgAFZiAG_BJIBATmYAQCgAQHIAQrAAQE&sclient=gws-wiz#kpvalbx=_jLA3Yp2nBriYptQP6LSZiAM11\n",
    "\n",
    "6. other pipelines of huggingface: https://huggingface.co/docs/transformers/main_classes/pipelines"
   ]
  },
  {
   "cell_type": "markdown",
   "id": "e9f3944c",
   "metadata": {},
   "source": [
    "## 2. add sentiment value to news-headlines csv document"
   ]
  },
  {
   "cell_type": "code",
   "execution_count": 5,
   "id": "2cc45551",
   "metadata": {},
   "outputs": [],
   "source": [
    "from transformers import pipeline\n",
    "import torch\n",
    "import torch.nn.functional as F\n",
    "from transformers import pipeline\n",
    "from tqdm.notebook import tqdm #进度条"
   ]
  },
  {
   "cell_type": "code",
   "execution_count": 6,
   "id": "dc6052dd",
   "metadata": {},
   "outputs": [],
   "source": [
    "import pandas as pd\n",
    "import plotly.express as px\n",
    "import string \n",
    "from spacy.lang.en.stop_words import STOP_WORDS  \n",
    "import spacy\n",
    "from sklearn.feature_extraction.text import TfidfVectorizer\n",
    "from sklearn.naive_bayes import MultinomialNB\n",
    "from sklearn.pipeline import Pipeline\n",
    "from sklearn.metrics import classification_report"
   ]
  },
  {
   "cell_type": "code",
   "execution_count": 7,
   "id": "36349563",
   "metadata": {},
   "outputs": [
    {
     "data": {
      "text/html": [
       "<script>\n",
       "code_show_err=false; \n",
       "function code_toggle_err() {\n",
       " if (code_show_err){\n",
       " $('div.output_stderr').hide();\n",
       " } else {\n",
       " $('div.output_stderr').show();\n",
       " }\n",
       " code_show_err = !code_show_err\n",
       "} \n",
       "$( document ).ready(code_toggle_err);\n",
       "</script>\n",
       "To toggle on/off output_stderr, click <a href=\"javascript:code_toggle_err()\">here</a>."
      ],
      "text/plain": [
       "<IPython.core.display.HTML object>"
      ]
     },
     "execution_count": 7,
     "metadata": {},
     "output_type": "execute_result"
    }
   ],
   "source": [
    "from IPython.display import HTML\n",
    "HTML('''<script>\n",
    "code_show_err=false; \n",
    "function code_toggle_err() {\n",
    " if (code_show_err){\n",
    " $('div.output_stderr').hide();\n",
    " } else {\n",
    " $('div.output_stderr').show();\n",
    " }\n",
    " code_show_err = !code_show_err\n",
    "} \n",
    "$( document ).ready(code_toggle_err);\n",
    "</script>\n",
    "To toggle on/off output_stderr, click <a href=\"javascript:code_toggle_err()\">here</a>.''')"
   ]
  },
  {
   "cell_type": "code",
   "execution_count": 8,
   "id": "ec2f117e",
   "metadata": {
    "scrolled": true
   },
   "outputs": [
    {
     "data": {
      "text/html": [
       "<div>\n",
       "<style scoped>\n",
       "    .dataframe tbody tr th:only-of-type {\n",
       "        vertical-align: middle;\n",
       "    }\n",
       "\n",
       "    .dataframe tbody tr th {\n",
       "        vertical-align: top;\n",
       "    }\n",
       "\n",
       "    .dataframe thead th {\n",
       "        text-align: right;\n",
       "    }\n",
       "</style>\n",
       "<table border=\"1\" class=\"dataframe\">\n",
       "  <thead>\n",
       "    <tr style=\"text-align: right;\">\n",
       "      <th></th>\n",
       "      <th>publish_date</th>\n",
       "      <th>headline_text</th>\n",
       "      <th>sentiment</th>\n",
       "      <th>score</th>\n",
       "    </tr>\n",
       "  </thead>\n",
       "  <tbody>\n",
       "    <tr>\n",
       "      <th>0</th>\n",
       "      <td>20200101</td>\n",
       "      <td>adelaide riverbank catches alight after new ye...</td>\n",
       "      <td>POSITIVE</td>\n",
       "      <td>0.998660</td>\n",
       "    </tr>\n",
       "    <tr>\n",
       "      <th>1</th>\n",
       "      <td>20200101</td>\n",
       "      <td>adelaides 9pm fireworks spark blaze on riverbank</td>\n",
       "      <td>POSITIVE</td>\n",
       "      <td>0.997871</td>\n",
       "    </tr>\n",
       "    <tr>\n",
       "      <th>2</th>\n",
       "      <td>20200101</td>\n",
       "      <td>archaic legislation governing nt women propert...</td>\n",
       "      <td>NEGATIVE</td>\n",
       "      <td>0.997699</td>\n",
       "    </tr>\n",
       "    <tr>\n",
       "      <th>3</th>\n",
       "      <td>20200101</td>\n",
       "      <td>australia welcomed 2020 with fireworks display...</td>\n",
       "      <td>POSITIVE</td>\n",
       "      <td>0.999707</td>\n",
       "    </tr>\n",
       "    <tr>\n",
       "      <th>4</th>\n",
       "      <td>20200101</td>\n",
       "      <td>authorities says atleast 50 structures have be...</td>\n",
       "      <td>NEGATIVE</td>\n",
       "      <td>0.999677</td>\n",
       "    </tr>\n",
       "    <tr>\n",
       "      <th>...</th>\n",
       "      <td>...</td>\n",
       "      <td>...</td>\n",
       "      <td>...</td>\n",
       "      <td>...</td>\n",
       "    </tr>\n",
       "    <tr>\n",
       "      <th>40233</th>\n",
       "      <td>20201231</td>\n",
       "      <td>what abc readers learned from 2020 looking bac...</td>\n",
       "      <td>NaN</td>\n",
       "      <td>NaN</td>\n",
       "    </tr>\n",
       "    <tr>\n",
       "      <th>40234</th>\n",
       "      <td>20201231</td>\n",
       "      <td>what are the south african and uk variants of ...</td>\n",
       "      <td>NaN</td>\n",
       "      <td>NaN</td>\n",
       "    </tr>\n",
       "    <tr>\n",
       "      <th>40235</th>\n",
       "      <td>20201231</td>\n",
       "      <td>what victorias coronavirus restrictions mean f...</td>\n",
       "      <td>NaN</td>\n",
       "      <td>NaN</td>\n",
       "    </tr>\n",
       "    <tr>\n",
       "      <th>40236</th>\n",
       "      <td>20201231</td>\n",
       "      <td>whats life like as an american doctor during c...</td>\n",
       "      <td>NaN</td>\n",
       "      <td>NaN</td>\n",
       "    </tr>\n",
       "    <tr>\n",
       "      <th>40237</th>\n",
       "      <td>20201231</td>\n",
       "      <td>womens shed canberra reskilling unemployed pan...</td>\n",
       "      <td>NaN</td>\n",
       "      <td>NaN</td>\n",
       "    </tr>\n",
       "  </tbody>\n",
       "</table>\n",
       "<p>40238 rows × 4 columns</p>\n",
       "</div>"
      ],
      "text/plain": [
       "       publish_date                                      headline_text  \\\n",
       "0          20200101  adelaide riverbank catches alight after new ye...   \n",
       "1          20200101   adelaides 9pm fireworks spark blaze on riverbank   \n",
       "2          20200101  archaic legislation governing nt women propert...   \n",
       "3          20200101  australia welcomed 2020 with fireworks display...   \n",
       "4          20200101  authorities says atleast 50 structures have be...   \n",
       "...             ...                                                ...   \n",
       "40233      20201231  what abc readers learned from 2020 looking bac...   \n",
       "40234      20201231  what are the south african and uk variants of ...   \n",
       "40235      20201231  what victorias coronavirus restrictions mean f...   \n",
       "40236      20201231  whats life like as an american doctor during c...   \n",
       "40237      20201231  womens shed canberra reskilling unemployed pan...   \n",
       "\n",
       "      sentiment     score  \n",
       "0      POSITIVE  0.998660  \n",
       "1      POSITIVE  0.997871  \n",
       "2      NEGATIVE  0.997699  \n",
       "3      POSITIVE  0.999707  \n",
       "4      NEGATIVE  0.999677  \n",
       "...         ...       ...  \n",
       "40233       NaN       NaN  \n",
       "40234       NaN       NaN  \n",
       "40235       NaN       NaN  \n",
       "40236       NaN       NaN  \n",
       "40237       NaN       NaN  \n",
       "\n",
       "[40238 rows x 4 columns]"
      ]
     },
     "execution_count": 8,
     "metadata": {},
     "output_type": "execute_result"
    }
   ],
   "source": [
    "df = pd.read_csv('abcnews-date-text.csv')\n",
    "df"
   ]
  },
  {
   "cell_type": "markdown",
   "id": "c54d85ee",
   "metadata": {},
   "source": [
    "#### 下面这个块儿是存盘drop后的表单， 跑一次就够了"
   ]
  },
  {
   "cell_type": "code",
   "execution_count": 9,
   "id": "fe20b8a4",
   "metadata": {},
   "outputs": [],
   "source": [
    "# df['sentiment'] = ''\n",
    "# df['score'] = ''\n",
    "# df.drop(df.index[0:1186020],  axis=0, inplace=True)\n",
    "# df.to_csv('abcnews-date-text.csv', index=False)"
   ]
  },
  {
   "cell_type": "code",
   "execution_count": 10,
   "id": "fc8bc70b",
   "metadata": {},
   "outputs": [
    {
     "name": "stderr",
     "output_type": "stream",
     "text": [
      "No model was supplied, defaulted to distilbert-base-uncased-finetuned-sst-2-english (https://huggingface.co/distilbert-base-uncased-finetuned-sst-2-english)\n"
     ]
    },
    {
     "data": {
      "text/plain": [
       "{'label': 'POSITIVE', 'score': 0.9986597299575806}"
      ]
     },
     "execution_count": 10,
     "metadata": {},
     "output_type": "execute_result"
    }
   ],
   "source": [
    "# pipeline('sentiment-analysis')(df['headline_text'][1186020])[0]\n",
    "pipeline('sentiment-analysis')(df['headline_text'][0])[0]"
   ]
  },
  {
   "cell_type": "code",
   "execution_count": null,
   "id": "79dc4c3d-e646-4921-9d3b-8e5c51c0a3de",
   "metadata": {},
   "outputs": [],
   "source": [
    "for i in tqdm(range(len(df))):\n",
    "    if isinstance(df['sentiment'][i], str): continue\n",
    "\n",
    "    sentimentValue = pipeline('sentiment-analysis')(df['headline_text'][i])[0]['label']\n",
    "    scoreValue = pipeline('sentiment-analysis')(df['headline_text'][i])[0]['score']\n",
    "    df['sentiment'][i] = sentimentValue\n",
    "    df['score'][i] = scoreValue\n",
    "    df.to_csv('abcnews-date-text.csv', index=False)"
   ]
  },
  {
   "cell_type": "code",
   "execution_count": null,
   "id": "2005c90c",
   "metadata": {},
   "outputs": [],
   "source": []
  }
 ],
 "metadata": {
  "kernelspec": {
   "display_name": "Python 3 (ipykernel)",
   "language": "python",
   "name": "python3"
  },
  "language_info": {
   "codemirror_mode": {
    "name": "ipython",
    "version": 3
   },
   "file_extension": ".py",
   "mimetype": "text/x-python",
   "name": "python",
   "nbconvert_exporter": "python",
   "pygments_lexer": "ipython3",
   "version": "3.9.7"
  }
 },
 "nbformat": 4,
 "nbformat_minor": 5
}
