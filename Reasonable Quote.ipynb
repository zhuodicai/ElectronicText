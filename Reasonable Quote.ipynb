{
 "cells": [
  {
   "cell_type": "markdown",
   "id": "ac59035d",
   "metadata": {},
   "source": [
    "# Reasonable Quote\n",
    "\n",
    "Quotes and proverbs are commonly misread by people since they are just short conclusive sentences without context, but we are inclined to guess the meaning and find reasonable explanations for them. Cut-up poetry is constructed by words or sentences from unknown places and does not need to provide the background. So I treat the quote as an element of cut-up poetry and generate relevant content for it as supplemental material. After all, it’s better than giving no context, right?  lol\n",
    "\n",
    "I firstly choose a random quote from famous people. Then I used the text analysis model to calculate the correlation score between news headlines and that quote. At last, I list the top 3 correlated headlines and attach the quote as a reasonable ending.\n",
    "\n",
    "blog link : https://jumbled-marmoset-78e.notion.site/reading-and-writing-electronic-text-week3-zoecai-418fbca650474e77b988bbfbae4ed22b"
   ]
  },
  {
   "cell_type": "code",
   "execution_count": 1,
   "id": "271fd29e",
   "metadata": {
    "scrolled": true
   },
   "outputs": [
    {
     "name": "stdout",
     "output_type": "stream",
     "text": [
      "Requirement already satisfied: sentence-transformers in /Users/zhuodicai/opt/anaconda3/lib/python3.9/site-packages (2.2.0)\n",
      "Requirement already satisfied: torchvision in /Users/zhuodicai/opt/anaconda3/lib/python3.9/site-packages (from sentence-transformers) (0.11.3)\n",
      "Requirement already satisfied: sentencepiece in /Users/zhuodicai/opt/anaconda3/lib/python3.9/site-packages (from sentence-transformers) (0.1.96)\n",
      "Requirement already satisfied: huggingface-hub in /Users/zhuodicai/opt/anaconda3/lib/python3.9/site-packages (from sentence-transformers) (0.4.0)\n",
      "Requirement already satisfied: numpy in /Users/zhuodicai/opt/anaconda3/lib/python3.9/site-packages (from sentence-transformers) (1.20.3)\n",
      "Requirement already satisfied: tqdm in /Users/zhuodicai/opt/anaconda3/lib/python3.9/site-packages (from sentence-transformers) (4.62.3)\n",
      "Requirement already satisfied: nltk in /Users/zhuodicai/opt/anaconda3/lib/python3.9/site-packages (from sentence-transformers) (3.6.5)\n",
      "Requirement already satisfied: scipy in /Users/zhuodicai/opt/anaconda3/lib/python3.9/site-packages (from sentence-transformers) (1.7.1)\n",
      "Requirement already satisfied: torch>=1.6.0 in /Users/zhuodicai/opt/anaconda3/lib/python3.9/site-packages (from sentence-transformers) (1.10.2)\n",
      "Requirement already satisfied: transformers<5.0.0,>=4.6.0 in /Users/zhuodicai/opt/anaconda3/lib/python3.9/site-packages (from sentence-transformers) (4.16.2)\n",
      "Requirement already satisfied: scikit-learn in /Users/zhuodicai/opt/anaconda3/lib/python3.9/site-packages (from sentence-transformers) (0.24.2)\n",
      "Requirement already satisfied: typing-extensions in /Users/zhuodicai/opt/anaconda3/lib/python3.9/site-packages (from torch>=1.6.0->sentence-transformers) (3.10.0.2)\n",
      "Requirement already satisfied: sacremoses in /Users/zhuodicai/opt/anaconda3/lib/python3.9/site-packages (from transformers<5.0.0,>=4.6.0->sentence-transformers) (0.0.47)\n",
      "Requirement already satisfied: packaging>=20.0 in /Users/zhuodicai/opt/anaconda3/lib/python3.9/site-packages (from transformers<5.0.0,>=4.6.0->sentence-transformers) (21.0)\n",
      "Requirement already satisfied: requests in /Users/zhuodicai/opt/anaconda3/lib/python3.9/site-packages (from transformers<5.0.0,>=4.6.0->sentence-transformers) (2.26.0)\n",
      "Requirement already satisfied: filelock in /Users/zhuodicai/opt/anaconda3/lib/python3.9/site-packages (from transformers<5.0.0,>=4.6.0->sentence-transformers) (3.3.1)\n",
      "Requirement already satisfied: tokenizers!=0.11.3,>=0.10.1 in /Users/zhuodicai/opt/anaconda3/lib/python3.9/site-packages (from transformers<5.0.0,>=4.6.0->sentence-transformers) (0.11.4)\n",
      "Requirement already satisfied: regex!=2019.12.17 in /Users/zhuodicai/opt/anaconda3/lib/python3.9/site-packages (from transformers<5.0.0,>=4.6.0->sentence-transformers) (2021.8.3)\n",
      "Requirement already satisfied: pyyaml>=5.1 in /Users/zhuodicai/opt/anaconda3/lib/python3.9/site-packages (from transformers<5.0.0,>=4.6.0->sentence-transformers) (6.0)\n",
      "Requirement already satisfied: pyparsing>=2.0.2 in /Users/zhuodicai/opt/anaconda3/lib/python3.9/site-packages (from packaging>=20.0->transformers<5.0.0,>=4.6.0->sentence-transformers) (3.0.4)\n",
      "Requirement already satisfied: click in /Users/zhuodicai/opt/anaconda3/lib/python3.9/site-packages (from nltk->sentence-transformers) (8.0.3)\n",
      "Requirement already satisfied: joblib in /Users/zhuodicai/opt/anaconda3/lib/python3.9/site-packages (from nltk->sentence-transformers) (1.1.0)\n",
      "Requirement already satisfied: charset-normalizer~=2.0.0 in /Users/zhuodicai/opt/anaconda3/lib/python3.9/site-packages (from requests->transformers<5.0.0,>=4.6.0->sentence-transformers) (2.0.4)\n",
      "Requirement already satisfied: certifi>=2017.4.17 in /Users/zhuodicai/opt/anaconda3/lib/python3.9/site-packages (from requests->transformers<5.0.0,>=4.6.0->sentence-transformers) (2021.10.8)\n",
      "Requirement already satisfied: idna<4,>=2.5 in /Users/zhuodicai/opt/anaconda3/lib/python3.9/site-packages (from requests->transformers<5.0.0,>=4.6.0->sentence-transformers) (3.2)\n",
      "Requirement already satisfied: urllib3<1.27,>=1.21.1 in /Users/zhuodicai/opt/anaconda3/lib/python3.9/site-packages (from requests->transformers<5.0.0,>=4.6.0->sentence-transformers) (1.26.7)\n",
      "Requirement already satisfied: six in /Users/zhuodicai/opt/anaconda3/lib/python3.9/site-packages (from sacremoses->transformers<5.0.0,>=4.6.0->sentence-transformers) (1.16.0)\n",
      "Requirement already satisfied: threadpoolctl>=2.0.0 in /Users/zhuodicai/opt/anaconda3/lib/python3.9/site-packages (from scikit-learn->sentence-transformers) (2.2.0)\n",
      "Requirement already satisfied: pillow!=8.3.0,>=5.3.0 in /Users/zhuodicai/opt/anaconda3/lib/python3.9/site-packages (from torchvision->sentence-transformers) (8.4.0)\n"
     ]
    }
   ],
   "source": [
    "!pip install -U sentence-transformers"
   ]
  },
  {
   "cell_type": "markdown",
   "id": "3d2f2c25",
   "metadata": {},
   "source": [
    "### 1. news headline (txt)"
   ]
  },
  {
   "cell_type": "code",
   "execution_count": 12,
   "id": "94e153fc",
   "metadata": {},
   "outputs": [],
   "source": [
    "#news headline\n",
    "content = []\n",
    "years = {}\n",
    "\n",
    "with open(\"abcnews-date-text.txt\",\"r\") as f:\n",
    "    for row in f.readlines(): \n",
    "        content.append(row.strip().split(',')) \n",
    "        \n",
    "for item in content:\n",
    "    year = item[0][0:4]\n",
    "    if year not in years:\n",
    "        years[year] = []\n",
    "    if year in years:\n",
    "        years[year].append(item[0] + \", \" + item[1])\n"
   ]
  },
  {
   "cell_type": "markdown",
   "id": "0a23a18d",
   "metadata": {},
   "source": [
    "### 2. quotes (json)\n",
    "\n",
    "choose one randomly"
   ]
  },
  {
   "cell_type": "code",
   "execution_count": 33,
   "id": "f785eb60",
   "metadata": {},
   "outputs": [
    {
     "data": {
      "text/plain": [
       "'Truth is a matter of the imagination.\\nUrsula K. Le Guin,  The Left Hand of Darkness'"
      ]
     },
     "execution_count": 33,
     "metadata": {},
     "output_type": "execute_result"
    }
   ],
   "source": [
    "#quotes\n",
    "import json\n",
    "import random\n",
    "\n",
    "with open(\"quotes.json\",\"r\") as f:\n",
    "    jsonFiles = json.loads(f.read())\n",
    "\n",
    "chooseQuote = random.choice(jsonFiles)\n",
    "\n",
    "chosenQuote = str(chooseQuote['Quote'])\n",
    "chosenAuthor = str(chooseQuote['Author'] )\n",
    "\n",
    "chosenQuote +'\\n'+ chosenAuthor\n"
   ]
  },
  {
   "cell_type": "markdown",
   "id": "e308db98",
   "metadata": {},
   "source": [
    "### 3. text comparision"
   ]
  },
  {
   "cell_type": "code",
   "execution_count": 34,
   "id": "679b9cb7",
   "metadata": {},
   "outputs": [
    {
     "name": "stdout",
     "output_type": "stream",
     "text": [
      "\u001b[1;7m20200606, calls for truth commission as path to treaty\u001b[0m\n",
      "\u001b[1;7m20201105, fight for the truth\u001b[0m\n",
      "\u001b[1;7m20201212, vijaya teelock says mauritiuss truth and justice\u001b[0m\n",
      "Truth is a matter of the imagination.\n",
      "————Ursula K. Le Guin,  The Left Hand of Darkness\n"
     ]
    }
   ],
   "source": [
    "from sentence_transformers import SentenceTransformer\n",
    "from scipy import spatial\n",
    "\n",
    "model = SentenceTransformer('all-MiniLM-L6-v2')\n",
    "\n",
    "allHeadings = []\n",
    "\n",
    "# for key in years:\n",
    "#     allHeadings += years[key] \n",
    "allHeadings += years[\"2020\"]\n",
    "\n",
    "sentences = [chosenQuote] + allHeadings\n",
    "\n",
    "embeddings = model.encode(sentences)\n",
    "\n",
    "def cal_similar(vector1,vector2):\n",
    "    return 1 - spatial.distance.cosine(vector1, vector2)\n",
    "\n",
    "target = embeddings[0] \n",
    "\n",
    "heading_target = []\n",
    "\n",
    "for index, vector in enumerate(embeddings): \n",
    "    if index == 0: continue # 0 is target\n",
    "        \n",
    "    heading_target.append([sentences[index], cal_similar(target,vector)])\n",
    "\n",
    "heading_target = sorted(heading_target, key = lambda x:-x[1]) \n",
    "\n",
    "\n",
    "print(\"\\033[1;7m\" + heading_target[0][0] + \"\\033[0m\")\n",
    "print(\"\\033[1;7m\" + heading_target[1][0] + \"\\033[0m\")\n",
    "print(\"\\033[1;7m\" + heading_target[2][0] + \"\\033[0m\")\n",
    "print(chosenQuote + '\\n————' + chosenAuthor)\n"
   ]
  },
  {
   "cell_type": "code",
   "execution_count": null,
   "id": "64d9f613",
   "metadata": {},
   "outputs": [],
   "source": []
  }
 ],
 "metadata": {
  "kernelspec": {
   "display_name": "Python 3 (ipykernel)",
   "language": "python",
   "name": "python3"
  },
  "language_info": {
   "codemirror_mode": {
    "name": "ipython",
    "version": 3
   },
   "file_extension": ".py",
   "mimetype": "text/x-python",
   "name": "python",
   "nbconvert_exporter": "python",
   "pygments_lexer": "ipython3",
   "version": "3.9.7"
  }
 },
 "nbformat": 4,
 "nbformat_minor": 5
}
